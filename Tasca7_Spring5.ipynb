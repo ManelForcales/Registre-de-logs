{
 "cells": [
  {
   "cell_type": "markdown",
   "metadata": {},
   "source": [
    "# EXERCICI 1"
   ]
  },
  {
   "cell_type": "markdown",
   "metadata": {},
   "source": [
    "L'analista ha d'assegurar-se que els registres consisteixen en una gamma completa de missatges i s'interpreten segons el context. Els elements de registre han de normalitzar-se, utilitzant els mateixos termes o terminologia, per evitar confusions i proporcionar cohesió.\n",
    "\n",
    "Com Científic de Dades se t'ha proporcionat accés als registres-Logs on queda registrada l'activitat de totes les visites realitzades a la pàgina web de l'agència de viatges \"akumenius.com\"."
   ]
  },
  {
   "cell_type": "markdown",
   "metadata": {},
   "source": [
    "- Exercici 1\n",
    "\n",
    "Normalitza, identifica i enumera cada un dels atributs / variables de l'estructura de l'arxiu \"Web_access_log-akumenius.com\" que trobaràs al repositori de GitHub \"Data-sources\". "
   ]
  },
  {
   "cell_type": "code",
   "execution_count": 1,
   "metadata": {},
   "outputs": [],
   "source": [
    "filename = './data/Web_access_log-akumenius.txt'"
   ]
  },
  {
   "cell_type": "code",
   "execution_count": 2,
   "metadata": {},
   "outputs": [],
   "source": [
    "import pandas as pd\n",
    "import re"
   ]
  },
  {
   "cell_type": "code",
   "execution_count": 3,
   "metadata": {},
   "outputs": [],
   "source": [
    "log =pd.read_csv(filename, sep='- -',header=None,skiprows=22,names=['web','text'],engine='python')\n",
    "# evito las 22 primeras filas que son diferente al resto"
   ]
  },
  {
   "cell_type": "code",
   "execution_count": 4,
   "metadata": {},
   "outputs": [
    {
     "data": {
      "text/plain": [
       "(261851, 2)"
      ]
     },
     "execution_count": 4,
     "metadata": {},
     "output_type": "execute_result"
    }
   ],
   "source": [
    "log.shape"
   ]
  },
  {
   "cell_type": "code",
   "execution_count": 5,
   "metadata": {},
   "outputs": [
    {
     "data": {
      "text/html": [
       "<div>\n",
       "<style scoped>\n",
       "    .dataframe tbody tr th:only-of-type {\n",
       "        vertical-align: middle;\n",
       "    }\n",
       "\n",
       "    .dataframe tbody tr th {\n",
       "        vertical-align: top;\n",
       "    }\n",
       "\n",
       "    .dataframe thead th {\n",
       "        text-align: right;\n",
       "    }\n",
       "</style>\n",
       "<table border=\"1\" class=\"dataframe\">\n",
       "  <thead>\n",
       "    <tr style=\"text-align: right;\">\n",
       "      <th></th>\n",
       "      <th>web</th>\n",
       "      <th>text</th>\n",
       "    </tr>\n",
       "  </thead>\n",
       "  <tbody>\n",
       "    <tr>\n",
       "      <th>0</th>\n",
       "      <td>www.akumenius.com 66.249.76.216</td>\n",
       "      <td>[23/Feb/2014:03:10:31 +0100] \"GET /hoteles-ba...</td>\n",
       "    </tr>\n",
       "    <tr>\n",
       "      <th>1</th>\n",
       "      <td>www.akumenius.com 66.249.76.216</td>\n",
       "      <td>[23/Feb/2014:03:10:33 +0100] \"GET /hoteles-ba...</td>\n",
       "    </tr>\n",
       "    <tr>\n",
       "      <th>2</th>\n",
       "      <td>www.akumenius.com 66.249.76.216</td>\n",
       "      <td>[23/Feb/2014:03:10:35 +0100] \"GET /hoteles-ba...</td>\n",
       "    </tr>\n",
       "    <tr>\n",
       "      <th>3</th>\n",
       "      <td>www.akumenius.com 66.249.76.216</td>\n",
       "      <td>[23/Feb/2014:03:10:38 +0100] \"GET /hoteles-ba...</td>\n",
       "    </tr>\n",
       "    <tr>\n",
       "      <th>4</th>\n",
       "      <td>www.akumenius.com 66.249.76.216</td>\n",
       "      <td>[23/Feb/2014:03:10:39 +0100] \"GET /destinos-b...</td>\n",
       "    </tr>\n",
       "    <tr>\n",
       "      <th>5</th>\n",
       "      <td>www.akumenius.com 66.249.76.216</td>\n",
       "      <td>[23/Feb/2014:03:10:40 +0100] \"GET /hoteles-ba...</td>\n",
       "    </tr>\n",
       "    <tr>\n",
       "      <th>6</th>\n",
       "      <td>www.akumenius.com 66.249.76.216</td>\n",
       "      <td>[23/Feb/2014:03:10:42 +0100] \"GET /hoteles-ba...</td>\n",
       "    </tr>\n",
       "    <tr>\n",
       "      <th>7</th>\n",
       "      <td>www.akumenius.com 66.249.76.216</td>\n",
       "      <td>[23/Feb/2014:03:10:45 +0100] \"GET /hoteles-ba...</td>\n",
       "    </tr>\n",
       "    <tr>\n",
       "      <th>8</th>\n",
       "      <td>www.akumenius.com 66.249.76.216</td>\n",
       "      <td>[23/Feb/2014:03:10:46 +0100] \"GET /destinos-b...</td>\n",
       "    </tr>\n",
       "    <tr>\n",
       "      <th>9</th>\n",
       "      <td>www.akumenius.com 66.249.76.216</td>\n",
       "      <td>[23/Feb/2014:03:10:47 +0100] \"GET /hoteles-ba...</td>\n",
       "    </tr>\n",
       "  </tbody>\n",
       "</table>\n",
       "</div>"
      ],
      "text/plain": [
       "                                web  \\\n",
       "0  www.akumenius.com 66.249.76.216    \n",
       "1  www.akumenius.com 66.249.76.216    \n",
       "2  www.akumenius.com 66.249.76.216    \n",
       "3  www.akumenius.com 66.249.76.216    \n",
       "4  www.akumenius.com 66.249.76.216    \n",
       "5  www.akumenius.com 66.249.76.216    \n",
       "6  www.akumenius.com 66.249.76.216    \n",
       "7  www.akumenius.com 66.249.76.216    \n",
       "8  www.akumenius.com 66.249.76.216    \n",
       "9  www.akumenius.com 66.249.76.216    \n",
       "\n",
       "                                                text  \n",
       "0   [23/Feb/2014:03:10:31 +0100] \"GET /hoteles-ba...  \n",
       "1   [23/Feb/2014:03:10:33 +0100] \"GET /hoteles-ba...  \n",
       "2   [23/Feb/2014:03:10:35 +0100] \"GET /hoteles-ba...  \n",
       "3   [23/Feb/2014:03:10:38 +0100] \"GET /hoteles-ba...  \n",
       "4   [23/Feb/2014:03:10:39 +0100] \"GET /destinos-b...  \n",
       "5   [23/Feb/2014:03:10:40 +0100] \"GET /hoteles-ba...  \n",
       "6   [23/Feb/2014:03:10:42 +0100] \"GET /hoteles-ba...  \n",
       "7   [23/Feb/2014:03:10:45 +0100] \"GET /hoteles-ba...  \n",
       "8   [23/Feb/2014:03:10:46 +0100] \"GET /destinos-b...  \n",
       "9   [23/Feb/2014:03:10:47 +0100] \"GET /hoteles-ba...  "
      ]
     },
     "execution_count": 5,
     "metadata": {},
     "output_type": "execute_result"
    }
   ],
   "source": [
    "log.head(10)"
   ]
  },
  {
   "cell_type": "code",
   "execution_count": 6,
   "metadata": {},
   "outputs": [
    {
     "data": {
      "text/plain": [
       "web      0\n",
       "text    27\n",
       "dtype: int64"
      ]
     },
     "execution_count": 6,
     "metadata": {},
     "output_type": "execute_result"
    }
   ],
   "source": [
    "log.isnull().sum()"
   ]
  },
  {
   "cell_type": "code",
   "execution_count": 10,
   "metadata": {},
   "outputs": [],
   "source": [
    "log.dropna(axis=0,inplace=True) # remove columns with null values"
   ]
  },
  {
   "cell_type": "code",
   "execution_count": 12,
   "metadata": {},
   "outputs": [
    {
     "data": {
      "text/html": [
       "<div>\n",
       "<style scoped>\n",
       "    .dataframe tbody tr th:only-of-type {\n",
       "        vertical-align: middle;\n",
       "    }\n",
       "\n",
       "    .dataframe tbody tr th {\n",
       "        vertical-align: top;\n",
       "    }\n",
       "\n",
       "    .dataframe thead th {\n",
       "        text-align: right;\n",
       "    }\n",
       "</style>\n",
       "<table border=\"1\" class=\"dataframe\">\n",
       "  <thead>\n",
       "    <tr style=\"text-align: right;\">\n",
       "      <th></th>\n",
       "      <th>web</th>\n",
       "      <th>text</th>\n",
       "    </tr>\n",
       "  </thead>\n",
       "  <tbody>\n",
       "    <tr>\n",
       "      <th>0</th>\n",
       "      <td>www.akumenius.com 66.249.76.216</td>\n",
       "      <td>[23/Feb/2014:03:10:31 +0100] \"GET /hoteles-ba...</td>\n",
       "    </tr>\n",
       "    <tr>\n",
       "      <th>1</th>\n",
       "      <td>www.akumenius.com 66.249.76.216</td>\n",
       "      <td>[23/Feb/2014:03:10:33 +0100] \"GET /hoteles-ba...</td>\n",
       "    </tr>\n",
       "    <tr>\n",
       "      <th>2</th>\n",
       "      <td>www.akumenius.com 66.249.76.216</td>\n",
       "      <td>[23/Feb/2014:03:10:35 +0100] \"GET /hoteles-ba...</td>\n",
       "    </tr>\n",
       "    <tr>\n",
       "      <th>3</th>\n",
       "      <td>www.akumenius.com 66.249.76.216</td>\n",
       "      <td>[23/Feb/2014:03:10:38 +0100] \"GET /hoteles-ba...</td>\n",
       "    </tr>\n",
       "    <tr>\n",
       "      <th>4</th>\n",
       "      <td>www.akumenius.com 66.249.76.216</td>\n",
       "      <td>[23/Feb/2014:03:10:39 +0100] \"GET /destinos-b...</td>\n",
       "    </tr>\n",
       "  </tbody>\n",
       "</table>\n",
       "</div>"
      ],
      "text/plain": [
       "                                web  \\\n",
       "0  www.akumenius.com 66.249.76.216    \n",
       "1  www.akumenius.com 66.249.76.216    \n",
       "2  www.akumenius.com 66.249.76.216    \n",
       "3  www.akumenius.com 66.249.76.216    \n",
       "4  www.akumenius.com 66.249.76.216    \n",
       "\n",
       "                                                text  \n",
       "0   [23/Feb/2014:03:10:31 +0100] \"GET /hoteles-ba...  \n",
       "1   [23/Feb/2014:03:10:33 +0100] \"GET /hoteles-ba...  \n",
       "2   [23/Feb/2014:03:10:35 +0100] \"GET /hoteles-ba...  \n",
       "3   [23/Feb/2014:03:10:38 +0100] \"GET /hoteles-ba...  \n",
       "4   [23/Feb/2014:03:10:39 +0100] \"GET /destinos-b...  "
      ]
     },
     "execution_count": 12,
     "metadata": {},
     "output_type": "execute_result"
    }
   ],
   "source": [
    "log.head()"
   ]
  },
  {
   "cell_type": "code",
   "execution_count": 13,
   "metadata": {},
   "outputs": [],
   "source": [
    "log[['address','ip']] = log.web.str.split(' ',expand=True).get([0,1])"
   ]
  },
  {
   "cell_type": "code",
   "execution_count": 15,
   "metadata": {
    "slideshow": {
     "slide_type": "-"
    }
   },
   "outputs": [],
   "source": [
    "log.drop('web',axis=1,inplace=True)"
   ]
  },
  {
   "cell_type": "code",
   "execution_count": 16,
   "metadata": {},
   "outputs": [
    {
     "data": {
      "text/html": [
       "<div>\n",
       "<style scoped>\n",
       "    .dataframe tbody tr th:only-of-type {\n",
       "        vertical-align: middle;\n",
       "    }\n",
       "\n",
       "    .dataframe tbody tr th {\n",
       "        vertical-align: top;\n",
       "    }\n",
       "\n",
       "    .dataframe thead th {\n",
       "        text-align: right;\n",
       "    }\n",
       "</style>\n",
       "<table border=\"1\" class=\"dataframe\">\n",
       "  <thead>\n",
       "    <tr style=\"text-align: right;\">\n",
       "      <th></th>\n",
       "      <th>text</th>\n",
       "      <th>address</th>\n",
       "      <th>ip</th>\n",
       "    </tr>\n",
       "  </thead>\n",
       "  <tbody>\n",
       "    <tr>\n",
       "      <th>0</th>\n",
       "      <td>[23/Feb/2014:03:10:31 +0100] \"GET /hoteles-ba...</td>\n",
       "      <td>www.akumenius.com</td>\n",
       "      <td>66.249.76.216</td>\n",
       "    </tr>\n",
       "    <tr>\n",
       "      <th>1</th>\n",
       "      <td>[23/Feb/2014:03:10:33 +0100] \"GET /hoteles-ba...</td>\n",
       "      <td>www.akumenius.com</td>\n",
       "      <td>66.249.76.216</td>\n",
       "    </tr>\n",
       "    <tr>\n",
       "      <th>2</th>\n",
       "      <td>[23/Feb/2014:03:10:35 +0100] \"GET /hoteles-ba...</td>\n",
       "      <td>www.akumenius.com</td>\n",
       "      <td>66.249.76.216</td>\n",
       "    </tr>\n",
       "    <tr>\n",
       "      <th>3</th>\n",
       "      <td>[23/Feb/2014:03:10:38 +0100] \"GET /hoteles-ba...</td>\n",
       "      <td>www.akumenius.com</td>\n",
       "      <td>66.249.76.216</td>\n",
       "    </tr>\n",
       "    <tr>\n",
       "      <th>4</th>\n",
       "      <td>[23/Feb/2014:03:10:39 +0100] \"GET /destinos-b...</td>\n",
       "      <td>www.akumenius.com</td>\n",
       "      <td>66.249.76.216</td>\n",
       "    </tr>\n",
       "  </tbody>\n",
       "</table>\n",
       "</div>"
      ],
      "text/plain": [
       "                                                text            address  \\\n",
       "0   [23/Feb/2014:03:10:31 +0100] \"GET /hoteles-ba...  www.akumenius.com   \n",
       "1   [23/Feb/2014:03:10:33 +0100] \"GET /hoteles-ba...  www.akumenius.com   \n",
       "2   [23/Feb/2014:03:10:35 +0100] \"GET /hoteles-ba...  www.akumenius.com   \n",
       "3   [23/Feb/2014:03:10:38 +0100] \"GET /hoteles-ba...  www.akumenius.com   \n",
       "4   [23/Feb/2014:03:10:39 +0100] \"GET /destinos-b...  www.akumenius.com   \n",
       "\n",
       "              ip  \n",
       "0  66.249.76.216  \n",
       "1  66.249.76.216  \n",
       "2  66.249.76.216  \n",
       "3  66.249.76.216  \n",
       "4  66.249.76.216  "
      ]
     },
     "execution_count": 16,
     "metadata": {},
     "output_type": "execute_result"
    }
   ],
   "source": [
    "log.head()"
   ]
  },
  {
   "cell_type": "code",
   "execution_count": 17,
   "metadata": {},
   "outputs": [
    {
     "data": {
      "text/plain": [
       "array(['www.akumenius.com', 'localhost', 'akumenius.com', 'akumenius.es',\n",
       "       'test.akumenius.com'], dtype=object)"
      ]
     },
     "execution_count": 17,
     "metadata": {},
     "output_type": "execute_result"
    }
   ],
   "source": [
    "log.address.unique()"
   ]
  },
  {
   "cell_type": "code",
   "execution_count": 19,
   "metadata": {},
   "outputs": [
    {
     "data": {
      "text/html": [
       "<div>\n",
       "<style scoped>\n",
       "    .dataframe tbody tr th:only-of-type {\n",
       "        vertical-align: middle;\n",
       "    }\n",
       "\n",
       "    .dataframe tbody tr th {\n",
       "        vertical-align: top;\n",
       "    }\n",
       "\n",
       "    .dataframe thead th {\n",
       "        text-align: right;\n",
       "    }\n",
       "</style>\n",
       "<table border=\"1\" class=\"dataframe\">\n",
       "  <thead>\n",
       "    <tr style=\"text-align: right;\">\n",
       "      <th></th>\n",
       "      <th>text</th>\n",
       "      <th>address</th>\n",
       "      <th>ip</th>\n",
       "    </tr>\n",
       "  </thead>\n",
       "  <tbody>\n",
       "    <tr>\n",
       "      <th>2756</th>\n",
       "      <td>[23/Feb/2014:04:13:07 +0100] \"OPTIONS * HTTP/...</td>\n",
       "      <td>localhost</td>\n",
       "      <td>127.0.0.1</td>\n",
       "    </tr>\n",
       "    <tr>\n",
       "      <th>2805</th>\n",
       "      <td>[23/Feb/2014:04:15:02 +0100] \"OPTIONS * HTTP/...</td>\n",
       "      <td>localhost</td>\n",
       "      <td>127.0.0.1</td>\n",
       "    </tr>\n",
       "    <tr>\n",
       "      <th>3398</th>\n",
       "      <td>[23/Feb/2014:04:43:03 +0100] \"OPTIONS * HTTP/...</td>\n",
       "      <td>localhost</td>\n",
       "      <td>127.0.0.1</td>\n",
       "    </tr>\n",
       "    <tr>\n",
       "      <th>3665</th>\n",
       "      <td>[23/Feb/2014:04:53:04 +0100] \"OPTIONS * HTTP/...</td>\n",
       "      <td>localhost</td>\n",
       "      <td>127.0.0.1</td>\n",
       "    </tr>\n",
       "    <tr>\n",
       "      <th>4465</th>\n",
       "      <td>[23/Feb/2014:05:22:56 +0100] \"OPTIONS * HTTP/...</td>\n",
       "      <td>localhost</td>\n",
       "      <td>127.0.0.1</td>\n",
       "    </tr>\n",
       "    <tr>\n",
       "      <th>...</th>\n",
       "      <td>...</td>\n",
       "      <td>...</td>\n",
       "      <td>...</td>\n",
       "    </tr>\n",
       "    <tr>\n",
       "      <th>261775</th>\n",
       "      <td>[02/Mar/2014:02:34:43 +0100] \"POST /cgi-bin/p...</td>\n",
       "      <td>localhost</td>\n",
       "      <td>217.174.248.179</td>\n",
       "    </tr>\n",
       "    <tr>\n",
       "      <th>261776</th>\n",
       "      <td>[02/Mar/2014:02:34:43 +0100] \"POST /?%2D%64+%...</td>\n",
       "      <td>localhost</td>\n",
       "      <td>217.174.248.179</td>\n",
       "    </tr>\n",
       "    <tr>\n",
       "      <th>261848</th>\n",
       "      <td>[02/Mar/2014:03:10:18 +0100] \"OPTIONS * HTTP/...</td>\n",
       "      <td>localhost</td>\n",
       "      <td>127.0.0.1</td>\n",
       "    </tr>\n",
       "    <tr>\n",
       "      <th>261849</th>\n",
       "      <td>[02/Mar/2014:03:10:18 +0100] \"OPTIONS * HTTP/...</td>\n",
       "      <td>localhost</td>\n",
       "      <td>127.0.0.1</td>\n",
       "    </tr>\n",
       "    <tr>\n",
       "      <th>261850</th>\n",
       "      <td>[02/Mar/2014:03:10:18 +0100] \"OPTIONS * HTTP/...</td>\n",
       "      <td>localhost</td>\n",
       "      <td>127.0.0.1</td>\n",
       "    </tr>\n",
       "  </tbody>\n",
       "</table>\n",
       "<p>14105 rows × 3 columns</p>\n",
       "</div>"
      ],
      "text/plain": [
       "                                                     text    address  \\\n",
       "2756     [23/Feb/2014:04:13:07 +0100] \"OPTIONS * HTTP/...  localhost   \n",
       "2805     [23/Feb/2014:04:15:02 +0100] \"OPTIONS * HTTP/...  localhost   \n",
       "3398     [23/Feb/2014:04:43:03 +0100] \"OPTIONS * HTTP/...  localhost   \n",
       "3665     [23/Feb/2014:04:53:04 +0100] \"OPTIONS * HTTP/...  localhost   \n",
       "4465     [23/Feb/2014:05:22:56 +0100] \"OPTIONS * HTTP/...  localhost   \n",
       "...                                                   ...        ...   \n",
       "261775   [02/Mar/2014:02:34:43 +0100] \"POST /cgi-bin/p...  localhost   \n",
       "261776   [02/Mar/2014:02:34:43 +0100] \"POST /?%2D%64+%...  localhost   \n",
       "261848   [02/Mar/2014:03:10:18 +0100] \"OPTIONS * HTTP/...  localhost   \n",
       "261849   [02/Mar/2014:03:10:18 +0100] \"OPTIONS * HTTP/...  localhost   \n",
       "261850   [02/Mar/2014:03:10:18 +0100] \"OPTIONS * HTTP/...  localhost   \n",
       "\n",
       "                     ip  \n",
       "2756          127.0.0.1  \n",
       "2805          127.0.0.1  \n",
       "3398          127.0.0.1  \n",
       "3665          127.0.0.1  \n",
       "4465          127.0.0.1  \n",
       "...                 ...  \n",
       "261775  217.174.248.179  \n",
       "261776  217.174.248.179  \n",
       "261848        127.0.0.1  \n",
       "261849        127.0.0.1  \n",
       "261850        127.0.0.1  \n",
       "\n",
       "[14105 rows x 3 columns]"
      ]
     },
     "execution_count": 19,
     "metadata": {},
     "output_type": "execute_result"
    }
   ],
   "source": [
    "log[log.address == 'localhost']"
   ]
  },
  {
   "cell_type": "code",
   "execution_count": 20,
   "metadata": {},
   "outputs": [],
   "source": [
    "log = log[log.address!='localhost'] # remove of 'localhost'"
   ]
  },
  {
   "cell_type": "code",
   "execution_count": 21,
   "metadata": {},
   "outputs": [
    {
     "data": {
      "text/html": [
       "<div>\n",
       "<style scoped>\n",
       "    .dataframe tbody tr th:only-of-type {\n",
       "        vertical-align: middle;\n",
       "    }\n",
       "\n",
       "    .dataframe tbody tr th {\n",
       "        vertical-align: top;\n",
       "    }\n",
       "\n",
       "    .dataframe thead th {\n",
       "        text-align: right;\n",
       "    }\n",
       "</style>\n",
       "<table border=\"1\" class=\"dataframe\">\n",
       "  <thead>\n",
       "    <tr style=\"text-align: right;\">\n",
       "      <th></th>\n",
       "      <th>text</th>\n",
       "      <th>address</th>\n",
       "      <th>ip</th>\n",
       "    </tr>\n",
       "  </thead>\n",
       "  <tbody>\n",
       "    <tr>\n",
       "      <th>0</th>\n",
       "      <td>[23/Feb/2014:03:10:31 +0100] \"GET /hoteles-ba...</td>\n",
       "      <td>www.akumenius.com</td>\n",
       "      <td>66.249.76.216</td>\n",
       "    </tr>\n",
       "    <tr>\n",
       "      <th>1</th>\n",
       "      <td>[23/Feb/2014:03:10:33 +0100] \"GET /hoteles-ba...</td>\n",
       "      <td>www.akumenius.com</td>\n",
       "      <td>66.249.76.216</td>\n",
       "    </tr>\n",
       "    <tr>\n",
       "      <th>2</th>\n",
       "      <td>[23/Feb/2014:03:10:35 +0100] \"GET /hoteles-ba...</td>\n",
       "      <td>www.akumenius.com</td>\n",
       "      <td>66.249.76.216</td>\n",
       "    </tr>\n",
       "    <tr>\n",
       "      <th>3</th>\n",
       "      <td>[23/Feb/2014:03:10:38 +0100] \"GET /hoteles-ba...</td>\n",
       "      <td>www.akumenius.com</td>\n",
       "      <td>66.249.76.216</td>\n",
       "    </tr>\n",
       "    <tr>\n",
       "      <th>4</th>\n",
       "      <td>[23/Feb/2014:03:10:39 +0100] \"GET /destinos-b...</td>\n",
       "      <td>www.akumenius.com</td>\n",
       "      <td>66.249.76.216</td>\n",
       "    </tr>\n",
       "  </tbody>\n",
       "</table>\n",
       "</div>"
      ],
      "text/plain": [
       "                                                text            address  \\\n",
       "0   [23/Feb/2014:03:10:31 +0100] \"GET /hoteles-ba...  www.akumenius.com   \n",
       "1   [23/Feb/2014:03:10:33 +0100] \"GET /hoteles-ba...  www.akumenius.com   \n",
       "2   [23/Feb/2014:03:10:35 +0100] \"GET /hoteles-ba...  www.akumenius.com   \n",
       "3   [23/Feb/2014:03:10:38 +0100] \"GET /hoteles-ba...  www.akumenius.com   \n",
       "4   [23/Feb/2014:03:10:39 +0100] \"GET /destinos-b...  www.akumenius.com   \n",
       "\n",
       "              ip  \n",
       "0  66.249.76.216  \n",
       "1  66.249.76.216  \n",
       "2  66.249.76.216  \n",
       "3  66.249.76.216  \n",
       "4  66.249.76.216  "
      ]
     },
     "execution_count": 21,
     "metadata": {},
     "output_type": "execute_result"
    }
   ],
   "source": [
    "log.head()"
   ]
  },
  {
   "cell_type": "code",
   "execution_count": 22,
   "metadata": {},
   "outputs": [],
   "source": [
    "log['date']= log.text.str.extract('(\\d+/\\w+/\\d+)')"
   ]
  },
  {
   "cell_type": "code",
   "execution_count": 23,
   "metadata": {},
   "outputs": [],
   "source": [
    "log['time'] = log.text.str.extract(':(\\d{2}:\\d{2}:\\d{2}.*)]')"
   ]
  },
  {
   "cell_type": "code",
   "execution_count": 24,
   "metadata": {},
   "outputs": [
    {
     "data": {
      "text/html": [
       "<div>\n",
       "<style scoped>\n",
       "    .dataframe tbody tr th:only-of-type {\n",
       "        vertical-align: middle;\n",
       "    }\n",
       "\n",
       "    .dataframe tbody tr th {\n",
       "        vertical-align: top;\n",
       "    }\n",
       "\n",
       "    .dataframe thead th {\n",
       "        text-align: right;\n",
       "    }\n",
       "</style>\n",
       "<table border=\"1\" class=\"dataframe\">\n",
       "  <thead>\n",
       "    <tr style=\"text-align: right;\">\n",
       "      <th></th>\n",
       "      <th>text</th>\n",
       "      <th>address</th>\n",
       "      <th>ip</th>\n",
       "      <th>date</th>\n",
       "      <th>time</th>\n",
       "    </tr>\n",
       "  </thead>\n",
       "  <tbody>\n",
       "    <tr>\n",
       "      <th>0</th>\n",
       "      <td>[23/Feb/2014:03:10:31 +0100] \"GET /hoteles-ba...</td>\n",
       "      <td>www.akumenius.com</td>\n",
       "      <td>66.249.76.216</td>\n",
       "      <td>23/Feb/2014</td>\n",
       "      <td>03:10:31 +0100</td>\n",
       "    </tr>\n",
       "    <tr>\n",
       "      <th>1</th>\n",
       "      <td>[23/Feb/2014:03:10:33 +0100] \"GET /hoteles-ba...</td>\n",
       "      <td>www.akumenius.com</td>\n",
       "      <td>66.249.76.216</td>\n",
       "      <td>23/Feb/2014</td>\n",
       "      <td>03:10:33 +0100</td>\n",
       "    </tr>\n",
       "    <tr>\n",
       "      <th>2</th>\n",
       "      <td>[23/Feb/2014:03:10:35 +0100] \"GET /hoteles-ba...</td>\n",
       "      <td>www.akumenius.com</td>\n",
       "      <td>66.249.76.216</td>\n",
       "      <td>23/Feb/2014</td>\n",
       "      <td>03:10:35 +0100</td>\n",
       "    </tr>\n",
       "    <tr>\n",
       "      <th>3</th>\n",
       "      <td>[23/Feb/2014:03:10:38 +0100] \"GET /hoteles-ba...</td>\n",
       "      <td>www.akumenius.com</td>\n",
       "      <td>66.249.76.216</td>\n",
       "      <td>23/Feb/2014</td>\n",
       "      <td>03:10:38 +0100</td>\n",
       "    </tr>\n",
       "    <tr>\n",
       "      <th>4</th>\n",
       "      <td>[23/Feb/2014:03:10:39 +0100] \"GET /destinos-b...</td>\n",
       "      <td>www.akumenius.com</td>\n",
       "      <td>66.249.76.216</td>\n",
       "      <td>23/Feb/2014</td>\n",
       "      <td>03:10:39 +0100</td>\n",
       "    </tr>\n",
       "  </tbody>\n",
       "</table>\n",
       "</div>"
      ],
      "text/plain": [
       "                                                text            address  \\\n",
       "0   [23/Feb/2014:03:10:31 +0100] \"GET /hoteles-ba...  www.akumenius.com   \n",
       "1   [23/Feb/2014:03:10:33 +0100] \"GET /hoteles-ba...  www.akumenius.com   \n",
       "2   [23/Feb/2014:03:10:35 +0100] \"GET /hoteles-ba...  www.akumenius.com   \n",
       "3   [23/Feb/2014:03:10:38 +0100] \"GET /hoteles-ba...  www.akumenius.com   \n",
       "4   [23/Feb/2014:03:10:39 +0100] \"GET /destinos-b...  www.akumenius.com   \n",
       "\n",
       "              ip         date            time  \n",
       "0  66.249.76.216  23/Feb/2014  03:10:31 +0100  \n",
       "1  66.249.76.216  23/Feb/2014  03:10:33 +0100  \n",
       "2  66.249.76.216  23/Feb/2014  03:10:35 +0100  \n",
       "3  66.249.76.216  23/Feb/2014  03:10:38 +0100  \n",
       "4  66.249.76.216  23/Feb/2014  03:10:39 +0100  "
      ]
     },
     "execution_count": 24,
     "metadata": {},
     "output_type": "execute_result"
    }
   ],
   "source": [
    "log.head()"
   ]
  },
  {
   "cell_type": "code",
   "execution_count": 25,
   "metadata": {},
   "outputs": [],
   "source": [
    "log[['peticion','codigo']] = log.text.str.split('\"',n=5,expand=True).get([1,2])"
   ]
  },
  {
   "cell_type": "code",
   "execution_count": 27,
   "metadata": {},
   "outputs": [],
   "source": [
    "log.drop(['text'],axis=1,inplace=True)"
   ]
  },
  {
   "cell_type": "code",
   "execution_count": 28,
   "metadata": {},
   "outputs": [
    {
     "data": {
      "text/html": [
       "<div>\n",
       "<style scoped>\n",
       "    .dataframe tbody tr th:only-of-type {\n",
       "        vertical-align: middle;\n",
       "    }\n",
       "\n",
       "    .dataframe tbody tr th {\n",
       "        vertical-align: top;\n",
       "    }\n",
       "\n",
       "    .dataframe thead th {\n",
       "        text-align: right;\n",
       "    }\n",
       "</style>\n",
       "<table border=\"1\" class=\"dataframe\">\n",
       "  <thead>\n",
       "    <tr style=\"text-align: right;\">\n",
       "      <th></th>\n",
       "      <th>address</th>\n",
       "      <th>ip</th>\n",
       "      <th>date</th>\n",
       "      <th>time</th>\n",
       "      <th>peticion</th>\n",
       "      <th>codigo</th>\n",
       "    </tr>\n",
       "  </thead>\n",
       "  <tbody>\n",
       "    <tr>\n",
       "      <th>0</th>\n",
       "      <td>www.akumenius.com</td>\n",
       "      <td>66.249.76.216</td>\n",
       "      <td>23/Feb/2014</td>\n",
       "      <td>03:10:31 +0100</td>\n",
       "      <td>GET /hoteles-baratos/ofertas-hotel-Club-&amp;-Hote...</td>\n",
       "      <td>404 3100</td>\n",
       "    </tr>\n",
       "    <tr>\n",
       "      <th>1</th>\n",
       "      <td>www.akumenius.com</td>\n",
       "      <td>66.249.76.216</td>\n",
       "      <td>23/Feb/2014</td>\n",
       "      <td>03:10:33 +0100</td>\n",
       "      <td>GET /hoteles-baratos/ofertas-hotel-Metropolis-...</td>\n",
       "      <td>404 3100</td>\n",
       "    </tr>\n",
       "    <tr>\n",
       "      <th>2</th>\n",
       "      <td>www.akumenius.com</td>\n",
       "      <td>66.249.76.216</td>\n",
       "      <td>23/Feb/2014</td>\n",
       "      <td>03:10:35 +0100</td>\n",
       "      <td>GET /hoteles-baratos/ofertas-hotel-Faena-Hotel...</td>\n",
       "      <td>404 3100</td>\n",
       "    </tr>\n",
       "    <tr>\n",
       "      <th>3</th>\n",
       "      <td>www.akumenius.com</td>\n",
       "      <td>66.249.76.216</td>\n",
       "      <td>23/Feb/2014</td>\n",
       "      <td>03:10:38 +0100</td>\n",
       "      <td>GET /hoteles-baratos/ofertas-hotel-Kensington-...</td>\n",
       "      <td>404 3100</td>\n",
       "    </tr>\n",
       "    <tr>\n",
       "      <th>4</th>\n",
       "      <td>www.akumenius.com</td>\n",
       "      <td>66.249.76.216</td>\n",
       "      <td>23/Feb/2014</td>\n",
       "      <td>03:10:39 +0100</td>\n",
       "      <td>GET /destinos-baratos/destinosEstrelles/hotele...</td>\n",
       "      <td>200 8811</td>\n",
       "    </tr>\n",
       "  </tbody>\n",
       "</table>\n",
       "</div>"
      ],
      "text/plain": [
       "             address             ip         date            time  \\\n",
       "0  www.akumenius.com  66.249.76.216  23/Feb/2014  03:10:31 +0100   \n",
       "1  www.akumenius.com  66.249.76.216  23/Feb/2014  03:10:33 +0100   \n",
       "2  www.akumenius.com  66.249.76.216  23/Feb/2014  03:10:35 +0100   \n",
       "3  www.akumenius.com  66.249.76.216  23/Feb/2014  03:10:38 +0100   \n",
       "4  www.akumenius.com  66.249.76.216  23/Feb/2014  03:10:39 +0100   \n",
       "\n",
       "                                            peticion      codigo  \n",
       "0  GET /hoteles-baratos/ofertas-hotel-Club-&-Hote...   404 3100   \n",
       "1  GET /hoteles-baratos/ofertas-hotel-Metropolis-...   404 3100   \n",
       "2  GET /hoteles-baratos/ofertas-hotel-Faena-Hotel...   404 3100   \n",
       "3  GET /hoteles-baratos/ofertas-hotel-Kensington-...   404 3100   \n",
       "4  GET /destinos-baratos/destinosEstrelles/hotele...   200 8811   "
      ]
     },
     "execution_count": 28,
     "metadata": {},
     "output_type": "execute_result"
    }
   ],
   "source": [
    "log.head()"
   ]
  },
  {
   "cell_type": "code",
   "execution_count": 29,
   "metadata": {},
   "outputs": [
    {
     "data": {
      "text/plain": [
       "(247719, 6)"
      ]
     },
     "execution_count": 29,
     "metadata": {},
     "output_type": "execute_result"
    }
   ],
   "source": [
    "log.shape"
   ]
  },
  {
   "cell_type": "markdown",
   "metadata": {},
   "source": [
    "## exercisi 3"
   ]
  },
  {
   "cell_type": "code",
   "execution_count": 30,
   "metadata": {},
   "outputs": [],
   "source": [
    "import json\n",
    "from ip2geotools.databases.noncommercial import DbIpCity"
   ]
  },
  {
   "cell_type": "code",
   "execution_count": 32,
   "metadata": {},
   "outputs": [
    {
     "data": {
      "text/plain": [
       "'Mountain View'"
      ]
     },
     "execution_count": 32,
     "metadata": {},
     "output_type": "execute_result"
    }
   ],
   "source": [
    "def extract_info_from_ip(ip):\n",
    "    try:\n",
    "        response = DbIpCity.get(ip, api_key='free').to_json()    \n",
    "        data = json.loads(response)\n",
    "        return data['city']\n",
    "    except:\n",
    "        return np.nan\n",
    "\n",
    "    \n",
    "ip = '66.249.76.216'\n",
    "extract_info_from_ip(ip)"
   ]
  },
  {
   "cell_type": "code",
   "execution_count": null,
   "metadata": {},
   "outputs": [],
   "source": []
  },
  {
   "cell_type": "code",
   "execution_count": null,
   "metadata": {},
   "outputs": [],
   "source": []
  },
  {
   "cell_type": "code",
   "execution_count": null,
   "metadata": {},
   "outputs": [],
   "source": []
  },
  {
   "cell_type": "code",
   "execution_count": null,
   "metadata": {},
   "outputs": [],
   "source": [
    "def extract_region_from_ip(ip):\n",
    "    response = DbIpCity.get(ip, api_key='free')\n",
    "    return response.region\n",
    "    \n",
    "    \n",
    "ip = '66.249.76.216'\n",
    "extract_region_from_ip(ip)"
   ]
  },
  {
   "cell_type": "code",
   "execution_count": null,
   "metadata": {},
   "outputs": [],
   "source": []
  },
  {
   "cell_type": "code",
   "execution_count": null,
   "metadata": {},
   "outputs": [],
   "source": [
    "log.head()"
   ]
  },
  {
   "cell_type": "code",
   "execution_count": null,
   "metadata": {},
   "outputs": [],
   "source": []
  },
  {
   "cell_type": "code",
   "execution_count": null,
   "metadata": {},
   "outputs": [],
   "source": []
  },
  {
   "cell_type": "code",
   "execution_count": null,
   "metadata": {},
   "outputs": [],
   "source": []
  }
 ],
 "metadata": {
  "kernelspec": {
   "display_name": "Python 3.8.5 64-bit",
   "language": "python",
   "name": "python38564bit085283b789164c689fec9352bdb58d25"
  },
  "language_info": {
   "codemirror_mode": {
    "name": "ipython",
    "version": 3
   },
   "file_extension": ".py",
   "mimetype": "text/x-python",
   "name": "python",
   "nbconvert_exporter": "python",
   "pygments_lexer": "ipython3",
   "version": "3.8.5"
  }
 },
 "nbformat": 4,
 "nbformat_minor": 4
}
