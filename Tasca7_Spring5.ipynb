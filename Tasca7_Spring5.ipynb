{
 "cells": [
  {
   "cell_type": "markdown",
   "metadata": {},
   "source": [
    "# EXERCICI 1"
   ]
  },
  {
   "cell_type": "markdown",
   "metadata": {},
   "source": [
    "L'analista ha d'assegurar-se que els registres consisteixen en una gamma completa de missatges i s'interpreten segons el context. Els elements de registre han de normalitzar-se, utilitzant els mateixos termes o terminologia, per evitar confusions i proporcionar cohesió.\n",
    "\n",
    "Com Científic de Dades se t'ha proporcionat accés als registres-Logs on queda registrada l'activitat de totes les visites realitzades a la pàgina web de l'agència de viatges \"akumenius.com\"."
   ]
  },
  {
   "cell_type": "markdown",
   "metadata": {},
   "source": [
    "- Exercici 1\n",
    "\n",
    "Normalitza, identifica i enumera cada un dels atributs / variables de l'estructura de l'arxiu \"Web_access_log-akumenius.com\" que trobaràs al repositori de GitHub \"Data-sources\". "
   ]
  },
  {
   "cell_type": "code",
   "execution_count": 2,
   "metadata": {},
   "outputs": [],
   "source": [
    "filename = './data/Web_access_log-akumenius.txt'"
   ]
  },
  {
   "cell_type": "code",
   "execution_count": 3,
   "metadata": {},
   "outputs": [],
   "source": [
    "import pandas as pd\n",
    "import re"
   ]
  },
  {
   "cell_type": "code",
   "execution_count": 4,
   "metadata": {},
   "outputs": [
    {
     "name": "stderr",
     "output_type": "stream",
     "text": [
      "<ipython-input-4-6787433bf2b9>:1: ParserWarning: Falling back to the 'python' engine because the 'c' engine does not support regex separators (separators > 1 char and different from '\\s+' are interpreted as regex); you can avoid this warning by specifying engine='python'.\n",
      "  log =pd.read_csv(filename, sep='- -',header=None,skiprows=22,names=['web','text'])\n"
     ]
    }
   ],
   "source": [
    "log =pd.read_csv(filename, sep='- -',header=None,skiprows=22,names=['web','text'])\n",
    "# evito las 22 primeras filas que son diferente al resto"
   ]
  },
  {
   "cell_type": "code",
   "execution_count": 5,
   "metadata": {},
   "outputs": [
    {
     "data": {
      "text/plain": [
       "(261851, 2)"
      ]
     },
     "execution_count": 5,
     "metadata": {},
     "output_type": "execute_result"
    }
   ],
   "source": [
    "log.shape"
   ]
  },
  {
   "cell_type": "code",
   "execution_count": 6,
   "metadata": {},
   "outputs": [
    {
     "data": {
      "text/html": [
       "<div>\n",
       "<style scoped>\n",
       "    .dataframe tbody tr th:only-of-type {\n",
       "        vertical-align: middle;\n",
       "    }\n",
       "\n",
       "    .dataframe tbody tr th {\n",
       "        vertical-align: top;\n",
       "    }\n",
       "\n",
       "    .dataframe thead th {\n",
       "        text-align: right;\n",
       "    }\n",
       "</style>\n",
       "<table border=\"1\" class=\"dataframe\">\n",
       "  <thead>\n",
       "    <tr style=\"text-align: right;\">\n",
       "      <th></th>\n",
       "      <th>web</th>\n",
       "      <th>text</th>\n",
       "    </tr>\n",
       "  </thead>\n",
       "  <tbody>\n",
       "    <tr>\n",
       "      <th>0</th>\n",
       "      <td>www.akumenius.com 66.249.76.216</td>\n",
       "      <td>[23/Feb/2014:03:10:31 +0100] \"GET /hoteles-ba...</td>\n",
       "    </tr>\n",
       "    <tr>\n",
       "      <th>1</th>\n",
       "      <td>www.akumenius.com 66.249.76.216</td>\n",
       "      <td>[23/Feb/2014:03:10:33 +0100] \"GET /hoteles-ba...</td>\n",
       "    </tr>\n",
       "    <tr>\n",
       "      <th>2</th>\n",
       "      <td>www.akumenius.com 66.249.76.216</td>\n",
       "      <td>[23/Feb/2014:03:10:35 +0100] \"GET /hoteles-ba...</td>\n",
       "    </tr>\n",
       "    <tr>\n",
       "      <th>3</th>\n",
       "      <td>www.akumenius.com 66.249.76.216</td>\n",
       "      <td>[23/Feb/2014:03:10:38 +0100] \"GET /hoteles-ba...</td>\n",
       "    </tr>\n",
       "    <tr>\n",
       "      <th>4</th>\n",
       "      <td>www.akumenius.com 66.249.76.216</td>\n",
       "      <td>[23/Feb/2014:03:10:39 +0100] \"GET /destinos-b...</td>\n",
       "    </tr>\n",
       "    <tr>\n",
       "      <th>5</th>\n",
       "      <td>www.akumenius.com 66.249.76.216</td>\n",
       "      <td>[23/Feb/2014:03:10:40 +0100] \"GET /hoteles-ba...</td>\n",
       "    </tr>\n",
       "    <tr>\n",
       "      <th>6</th>\n",
       "      <td>www.akumenius.com 66.249.76.216</td>\n",
       "      <td>[23/Feb/2014:03:10:42 +0100] \"GET /hoteles-ba...</td>\n",
       "    </tr>\n",
       "    <tr>\n",
       "      <th>7</th>\n",
       "      <td>www.akumenius.com 66.249.76.216</td>\n",
       "      <td>[23/Feb/2014:03:10:45 +0100] \"GET /hoteles-ba...</td>\n",
       "    </tr>\n",
       "    <tr>\n",
       "      <th>8</th>\n",
       "      <td>www.akumenius.com 66.249.76.216</td>\n",
       "      <td>[23/Feb/2014:03:10:46 +0100] \"GET /destinos-b...</td>\n",
       "    </tr>\n",
       "    <tr>\n",
       "      <th>9</th>\n",
       "      <td>www.akumenius.com 66.249.76.216</td>\n",
       "      <td>[23/Feb/2014:03:10:47 +0100] \"GET /hoteles-ba...</td>\n",
       "    </tr>\n",
       "  </tbody>\n",
       "</table>\n",
       "</div>"
      ],
      "text/plain": [
       "                                web  \\\n",
       "0  www.akumenius.com 66.249.76.216    \n",
       "1  www.akumenius.com 66.249.76.216    \n",
       "2  www.akumenius.com 66.249.76.216    \n",
       "3  www.akumenius.com 66.249.76.216    \n",
       "4  www.akumenius.com 66.249.76.216    \n",
       "5  www.akumenius.com 66.249.76.216    \n",
       "6  www.akumenius.com 66.249.76.216    \n",
       "7  www.akumenius.com 66.249.76.216    \n",
       "8  www.akumenius.com 66.249.76.216    \n",
       "9  www.akumenius.com 66.249.76.216    \n",
       "\n",
       "                                                text  \n",
       "0   [23/Feb/2014:03:10:31 +0100] \"GET /hoteles-ba...  \n",
       "1   [23/Feb/2014:03:10:33 +0100] \"GET /hoteles-ba...  \n",
       "2   [23/Feb/2014:03:10:35 +0100] \"GET /hoteles-ba...  \n",
       "3   [23/Feb/2014:03:10:38 +0100] \"GET /hoteles-ba...  \n",
       "4   [23/Feb/2014:03:10:39 +0100] \"GET /destinos-b...  \n",
       "5   [23/Feb/2014:03:10:40 +0100] \"GET /hoteles-ba...  \n",
       "6   [23/Feb/2014:03:10:42 +0100] \"GET /hoteles-ba...  \n",
       "7   [23/Feb/2014:03:10:45 +0100] \"GET /hoteles-ba...  \n",
       "8   [23/Feb/2014:03:10:46 +0100] \"GET /destinos-b...  \n",
       "9   [23/Feb/2014:03:10:47 +0100] \"GET /hoteles-ba...  "
      ]
     },
     "execution_count": 6,
     "metadata": {},
     "output_type": "execute_result"
    }
   ],
   "source": [
    "log.head(10)"
   ]
  },
  {
   "cell_type": "code",
   "execution_count": 7,
   "metadata": {},
   "outputs": [],
   "source": [
    "log[['address','ip']] =log.web.str.split(' ',n=1,expand=True)"
   ]
  },
  {
   "cell_type": "code",
   "execution_count": 8,
   "metadata": {
    "slideshow": {
     "slide_type": "-"
    }
   },
   "outputs": [
    {
     "data": {
      "text/html": [
       "<div>\n",
       "<style scoped>\n",
       "    .dataframe tbody tr th:only-of-type {\n",
       "        vertical-align: middle;\n",
       "    }\n",
       "\n",
       "    .dataframe tbody tr th {\n",
       "        vertical-align: top;\n",
       "    }\n",
       "\n",
       "    .dataframe thead th {\n",
       "        text-align: right;\n",
       "    }\n",
       "</style>\n",
       "<table border=\"1\" class=\"dataframe\">\n",
       "  <thead>\n",
       "    <tr style=\"text-align: right;\">\n",
       "      <th></th>\n",
       "      <th>web</th>\n",
       "      <th>text</th>\n",
       "      <th>address</th>\n",
       "      <th>ip</th>\n",
       "    </tr>\n",
       "  </thead>\n",
       "  <tbody>\n",
       "    <tr>\n",
       "      <th>0</th>\n",
       "      <td>www.akumenius.com 66.249.76.216</td>\n",
       "      <td>[23/Feb/2014:03:10:31 +0100] \"GET /hoteles-ba...</td>\n",
       "      <td>www.akumenius.com</td>\n",
       "      <td>66.249.76.216</td>\n",
       "    </tr>\n",
       "    <tr>\n",
       "      <th>1</th>\n",
       "      <td>www.akumenius.com 66.249.76.216</td>\n",
       "      <td>[23/Feb/2014:03:10:33 +0100] \"GET /hoteles-ba...</td>\n",
       "      <td>www.akumenius.com</td>\n",
       "      <td>66.249.76.216</td>\n",
       "    </tr>\n",
       "    <tr>\n",
       "      <th>2</th>\n",
       "      <td>www.akumenius.com 66.249.76.216</td>\n",
       "      <td>[23/Feb/2014:03:10:35 +0100] \"GET /hoteles-ba...</td>\n",
       "      <td>www.akumenius.com</td>\n",
       "      <td>66.249.76.216</td>\n",
       "    </tr>\n",
       "    <tr>\n",
       "      <th>3</th>\n",
       "      <td>www.akumenius.com 66.249.76.216</td>\n",
       "      <td>[23/Feb/2014:03:10:38 +0100] \"GET /hoteles-ba...</td>\n",
       "      <td>www.akumenius.com</td>\n",
       "      <td>66.249.76.216</td>\n",
       "    </tr>\n",
       "    <tr>\n",
       "      <th>4</th>\n",
       "      <td>www.akumenius.com 66.249.76.216</td>\n",
       "      <td>[23/Feb/2014:03:10:39 +0100] \"GET /destinos-b...</td>\n",
       "      <td>www.akumenius.com</td>\n",
       "      <td>66.249.76.216</td>\n",
       "    </tr>\n",
       "  </tbody>\n",
       "</table>\n",
       "</div>"
      ],
      "text/plain": [
       "                                web  \\\n",
       "0  www.akumenius.com 66.249.76.216    \n",
       "1  www.akumenius.com 66.249.76.216    \n",
       "2  www.akumenius.com 66.249.76.216    \n",
       "3  www.akumenius.com 66.249.76.216    \n",
       "4  www.akumenius.com 66.249.76.216    \n",
       "\n",
       "                                                text            address  \\\n",
       "0   [23/Feb/2014:03:10:31 +0100] \"GET /hoteles-ba...  www.akumenius.com   \n",
       "1   [23/Feb/2014:03:10:33 +0100] \"GET /hoteles-ba...  www.akumenius.com   \n",
       "2   [23/Feb/2014:03:10:35 +0100] \"GET /hoteles-ba...  www.akumenius.com   \n",
       "3   [23/Feb/2014:03:10:38 +0100] \"GET /hoteles-ba...  www.akumenius.com   \n",
       "4   [23/Feb/2014:03:10:39 +0100] \"GET /destinos-b...  www.akumenius.com   \n",
       "\n",
       "               ip  \n",
       "0  66.249.76.216   \n",
       "1  66.249.76.216   \n",
       "2  66.249.76.216   \n",
       "3  66.249.76.216   \n",
       "4  66.249.76.216   "
      ]
     },
     "execution_count": 8,
     "metadata": {},
     "output_type": "execute_result"
    }
   ],
   "source": [
    "log.head()"
   ]
  },
  {
   "cell_type": "code",
   "execution_count": 9,
   "metadata": {},
   "outputs": [],
   "source": [
    "log['date']= log.text.str.extract('(\\d+/\\w+/\\d+)')"
   ]
  },
  {
   "cell_type": "code",
   "execution_count": 10,
   "metadata": {},
   "outputs": [],
   "source": [
    "log['time'] = log.text.str.extract(':(\\d{2}:\\d{2}:\\d{2}.*)]')"
   ]
  },
  {
   "cell_type": "code",
   "execution_count": 11,
   "metadata": {},
   "outputs": [],
   "source": [
    "log[['peticion','codigo']] = log.text.str.split('\"',n=5,expand=True).get([1,2])"
   ]
  },
  {
   "cell_type": "code",
   "execution_count": 13,
   "metadata": {},
   "outputs": [],
   "source": [
    "log.drop(['web','text'],axis=1,inplace=True)"
   ]
  },
  {
   "cell_type": "code",
   "execution_count": 14,
   "metadata": {},
   "outputs": [
    {
     "data": {
      "text/html": [
       "<div>\n",
       "<style scoped>\n",
       "    .dataframe tbody tr th:only-of-type {\n",
       "        vertical-align: middle;\n",
       "    }\n",
       "\n",
       "    .dataframe tbody tr th {\n",
       "        vertical-align: top;\n",
       "    }\n",
       "\n",
       "    .dataframe thead th {\n",
       "        text-align: right;\n",
       "    }\n",
       "</style>\n",
       "<table border=\"1\" class=\"dataframe\">\n",
       "  <thead>\n",
       "    <tr style=\"text-align: right;\">\n",
       "      <th></th>\n",
       "      <th>address</th>\n",
       "      <th>ip</th>\n",
       "      <th>date</th>\n",
       "      <th>time</th>\n",
       "      <th>peticion</th>\n",
       "      <th>codigo</th>\n",
       "    </tr>\n",
       "  </thead>\n",
       "  <tbody>\n",
       "    <tr>\n",
       "      <th>0</th>\n",
       "      <td>www.akumenius.com</td>\n",
       "      <td>66.249.76.216</td>\n",
       "      <td>23/Feb/2014</td>\n",
       "      <td>03:10:31 +0100</td>\n",
       "      <td>GET /hoteles-baratos/ofertas-hotel-Club-&amp;-Hote...</td>\n",
       "      <td>404 3100</td>\n",
       "    </tr>\n",
       "    <tr>\n",
       "      <th>1</th>\n",
       "      <td>www.akumenius.com</td>\n",
       "      <td>66.249.76.216</td>\n",
       "      <td>23/Feb/2014</td>\n",
       "      <td>03:10:33 +0100</td>\n",
       "      <td>GET /hoteles-baratos/ofertas-hotel-Metropolis-...</td>\n",
       "      <td>404 3100</td>\n",
       "    </tr>\n",
       "    <tr>\n",
       "      <th>2</th>\n",
       "      <td>www.akumenius.com</td>\n",
       "      <td>66.249.76.216</td>\n",
       "      <td>23/Feb/2014</td>\n",
       "      <td>03:10:35 +0100</td>\n",
       "      <td>GET /hoteles-baratos/ofertas-hotel-Faena-Hotel...</td>\n",
       "      <td>404 3100</td>\n",
       "    </tr>\n",
       "    <tr>\n",
       "      <th>3</th>\n",
       "      <td>www.akumenius.com</td>\n",
       "      <td>66.249.76.216</td>\n",
       "      <td>23/Feb/2014</td>\n",
       "      <td>03:10:38 +0100</td>\n",
       "      <td>GET /hoteles-baratos/ofertas-hotel-Kensington-...</td>\n",
       "      <td>404 3100</td>\n",
       "    </tr>\n",
       "    <tr>\n",
       "      <th>4</th>\n",
       "      <td>www.akumenius.com</td>\n",
       "      <td>66.249.76.216</td>\n",
       "      <td>23/Feb/2014</td>\n",
       "      <td>03:10:39 +0100</td>\n",
       "      <td>GET /destinos-baratos/destinosEstrelles/hotele...</td>\n",
       "      <td>200 8811</td>\n",
       "    </tr>\n",
       "  </tbody>\n",
       "</table>\n",
       "</div>"
      ],
      "text/plain": [
       "             address              ip         date            time  \\\n",
       "0  www.akumenius.com  66.249.76.216   23/Feb/2014  03:10:31 +0100   \n",
       "1  www.akumenius.com  66.249.76.216   23/Feb/2014  03:10:33 +0100   \n",
       "2  www.akumenius.com  66.249.76.216   23/Feb/2014  03:10:35 +0100   \n",
       "3  www.akumenius.com  66.249.76.216   23/Feb/2014  03:10:38 +0100   \n",
       "4  www.akumenius.com  66.249.76.216   23/Feb/2014  03:10:39 +0100   \n",
       "\n",
       "                                            peticion      codigo  \n",
       "0  GET /hoteles-baratos/ofertas-hotel-Club-&-Hote...   404 3100   \n",
       "1  GET /hoteles-baratos/ofertas-hotel-Metropolis-...   404 3100   \n",
       "2  GET /hoteles-baratos/ofertas-hotel-Faena-Hotel...   404 3100   \n",
       "3  GET /hoteles-baratos/ofertas-hotel-Kensington-...   404 3100   \n",
       "4  GET /destinos-baratos/destinosEstrelles/hotele...   200 8811   "
      ]
     },
     "execution_count": 14,
     "metadata": {},
     "output_type": "execute_result"
    }
   ],
   "source": [
    "log.head()"
   ]
  },
  {
   "cell_type": "code",
   "execution_count": 17,
   "metadata": {},
   "outputs": [
    {
     "ename": "ImportError",
     "evalue": "cannot import name 'urlopen' from 'requests' (/usr/lib/python3/dist-packages/requests/__init__.py)",
     "output_type": "error",
     "traceback": [
      "\u001b[0;31m---------------------------------------------------------------------------\u001b[0m",
      "\u001b[0;31mImportError\u001b[0m                               Traceback (most recent call last)",
      "\u001b[0;32m<ipython-input-17-9f66e41f7c94>\u001b[0m in \u001b[0;36m<module>\u001b[0;34m\u001b[0m\n\u001b[0;32m----> 1\u001b[0;31m \u001b[0;32mfrom\u001b[0m \u001b[0mrequests\u001b[0m \u001b[0;32mimport\u001b[0m \u001b[0murlopen\u001b[0m\u001b[0;34m\u001b[0m\u001b[0;34m\u001b[0m\u001b[0m\n\u001b[0m\u001b[1;32m      2\u001b[0m \u001b[0murl\u001b[0m \u001b[0;34m=\u001b[0m \u001b[0;34m'http://ipinfo.io/json'\u001b[0m\u001b[0;34m\u001b[0m\u001b[0;34m\u001b[0m\u001b[0m\n\u001b[1;32m      3\u001b[0m \u001b[0mresponse\u001b[0m \u001b[0;34m=\u001b[0m \u001b[0murlopen\u001b[0m\u001b[0;34m(\u001b[0m\u001b[0murl\u001b[0m\u001b[0;34m)\u001b[0m\u001b[0;34m\u001b[0m\u001b[0;34m\u001b[0m\u001b[0m\n\u001b[1;32m      4\u001b[0m \u001b[0mdata\u001b[0m \u001b[0;34m=\u001b[0m \u001b[0mjson\u001b[0m\u001b[0;34m.\u001b[0m\u001b[0mload\u001b[0m\u001b[0;34m(\u001b[0m\u001b[0mresponse\u001b[0m\u001b[0;34m)\u001b[0m\u001b[0;34m\u001b[0m\u001b[0;34m\u001b[0m\u001b[0m\n\u001b[1;32m      5\u001b[0m \u001b[0mprint\u001b[0m\u001b[0;34m(\u001b[0m\u001b[0mdata\u001b[0m\u001b[0;34m)\u001b[0m\u001b[0;34m\u001b[0m\u001b[0;34m\u001b[0m\u001b[0m\n",
      "\u001b[0;31mImportError\u001b[0m: cannot import name 'urlopen' from 'requests' (/usr/lib/python3/dist-packages/requests/__init__.py)"
     ]
    }
   ],
   "source": [
    "from requests import urlopen\n",
    "url = 'http://ipinfo.io/json'\n",
    "response = urlopen(url)\n",
    "data = json.load(response)\n",
    "print(data)\n",
    "IP=data['ip']\n",
    "org=data['org']\n",
    "city = data['city']\n",
    "country=data['country']\n",
    "region=data['region']"
   ]
  },
  {
   "cell_type": "code",
   "execution_count": null,
   "metadata": {},
   "outputs": [],
   "source": []
  },
  {
   "cell_type": "code",
   "execution_count": null,
   "metadata": {},
   "outputs": [],
   "source": []
  },
  {
   "cell_type": "code",
   "execution_count": null,
   "metadata": {},
   "outputs": [],
   "source": []
  },
  {
   "cell_type": "code",
   "execution_count": null,
   "metadata": {},
   "outputs": [],
   "source": []
  },
  {
   "cell_type": "code",
   "execution_count": null,
   "metadata": {},
   "outputs": [],
   "source": []
  },
  {
   "cell_type": "code",
   "execution_count": null,
   "metadata": {},
   "outputs": [],
   "source": [
    "log.head()"
   ]
  },
  {
   "cell_type": "code",
   "execution_count": null,
   "metadata": {},
   "outputs": [],
   "source": []
  },
  {
   "cell_type": "code",
   "execution_count": null,
   "metadata": {},
   "outputs": [],
   "source": []
  },
  {
   "cell_type": "code",
   "execution_count": null,
   "metadata": {},
   "outputs": [],
   "source": [
    "url = 'https://blog.ip2location.com/knowledge-base/how-to-add-a-sub-account-in-ip2location/'"
   ]
  }
 ],
 "metadata": {
  "kernelspec": {
   "display_name": "Python 3.8.5 64-bit",
   "language": "python",
   "name": "python38564bit085283b789164c689fec9352bdb58d25"
  },
  "language_info": {
   "codemirror_mode": {
    "name": "ipython",
    "version": 3
   },
   "file_extension": ".py",
   "mimetype": "text/x-python",
   "name": "python",
   "nbconvert_exporter": "python",
   "pygments_lexer": "ipython3",
   "version": "3.8.5"
  }
 },
 "nbformat": 4,
 "nbformat_minor": 4
}
