{
 "cells": [
  {
   "cell_type": "markdown",
   "metadata": {},
   "source": [
    "# EXERCICI 1"
   ]
  },
  {
   "cell_type": "markdown",
   "metadata": {},
   "source": [
    "L'analista ha d'assegurar-se que els registres consisteixen en una gamma completa de missatges i s'interpreten segons el context. Els elements de registre han de normalitzar-se, utilitzant els mateixos termes o terminologia, per evitar confusions i proporcionar cohesió.\n",
    "\n",
    "Com Científic de Dades se t'ha proporcionat accés als registres-Logs on queda registrada l'activitat de totes les visites realitzades a la pàgina web de l'agència de viatges \"akumenius.com\"."
   ]
  },
  {
   "cell_type": "markdown",
   "metadata": {},
   "source": [
    "- Exercici 1\n",
    "\n",
    "Normalitza, identifica i enumera cada un dels atributs / variables de l'estructura de l'arxiu \"Web_access_log-akumenius.com\" que trobaràs al repositori de GitHub \"Data-sources\". "
   ]
  },
  {
   "cell_type": "code",
   "execution_count": 1,
   "metadata": {},
   "outputs": [],
   "source": [
    "filename = './data/Web_access_log-akumenius.txt'"
   ]
  },
  {
   "cell_type": "code",
   "execution_count": 2,
   "metadata": {},
   "outputs": [],
   "source": [
    "import pandas as pd\n",
    "import re\n",
    "import seaborn as sns\n",
    "pd.set_option('display.max_columns', None)\n",
    "%matplotlib inline"
   ]
  },
  {
   "cell_type": "code",
   "execution_count": 3,
   "metadata": {},
   "outputs": [],
   "source": [
    "log =pd.read_csv(filename, sep='- -',header=None,names=['web','text'],engine='python')"
   ]
  },
  {
   "cell_type": "code",
   "execution_count": 4,
   "metadata": {},
   "outputs": [
    {
     "data": {
      "text/plain": [
       "(261873, 2)"
      ]
     },
     "execution_count": 4,
     "metadata": {},
     "output_type": "execute_result"
    }
   ],
   "source": [
    "log.shape"
   ]
  },
  {
   "cell_type": "code",
   "execution_count": 5,
   "metadata": {},
   "outputs": [
    {
     "data": {
      "text/html": [
       "<div>\n",
       "<style scoped>\n",
       "    .dataframe tbody tr th:only-of-type {\n",
       "        vertical-align: middle;\n",
       "    }\n",
       "\n",
       "    .dataframe tbody tr th {\n",
       "        vertical-align: top;\n",
       "    }\n",
       "\n",
       "    .dataframe thead th {\n",
       "        text-align: right;\n",
       "    }\n",
       "</style>\n",
       "<table border=\"1\" class=\"dataframe\">\n",
       "  <thead>\n",
       "    <tr style=\"text-align: right;\">\n",
       "      <th></th>\n",
       "      <th>web</th>\n",
       "      <th>text</th>\n",
       "    </tr>\n",
       "  </thead>\n",
       "  <tbody>\n",
       "    <tr>\n",
       "      <th>0</th>\n",
       "      <td>localhost 127.0.0.1</td>\n",
       "      <td>[23/Feb/2014:03:10:31 +0100] \"OPTIONS * HTTP/...</td>\n",
       "    </tr>\n",
       "    <tr>\n",
       "      <th>1</th>\n",
       "      <td>localhost 127.0.0.1</td>\n",
       "      <td>[23/Feb/2014:03:10:31 +0100] \"OPTIONS * HTTP/...</td>\n",
       "    </tr>\n",
       "    <tr>\n",
       "      <th>2</th>\n",
       "      <td>localhost 127.0.0.1</td>\n",
       "      <td>[23/Feb/2014:03:10:31 +0100] \"OPTIONS * HTTP/...</td>\n",
       "    </tr>\n",
       "    <tr>\n",
       "      <th>3</th>\n",
       "      <td>localhost 127.0.0.1</td>\n",
       "      <td>[23/Feb/2014:03:10:31 +0100] \"OPTIONS * HTTP/...</td>\n",
       "    </tr>\n",
       "    <tr>\n",
       "      <th>4</th>\n",
       "      <td>localhost 127.0.0.1</td>\n",
       "      <td>[23/Feb/2014:03:10:31 +0100] \"OPTIONS * HTTP/...</td>\n",
       "    </tr>\n",
       "    <tr>\n",
       "      <th>5</th>\n",
       "      <td>localhost 127.0.0.1</td>\n",
       "      <td>[23/Feb/2014:03:10:31 +0100] \"OPTIONS * HTTP/...</td>\n",
       "    </tr>\n",
       "    <tr>\n",
       "      <th>6</th>\n",
       "      <td>localhost 127.0.0.1</td>\n",
       "      <td>[23/Feb/2014:03:10:31 +0100] \"OPTIONS * HTTP/...</td>\n",
       "    </tr>\n",
       "    <tr>\n",
       "      <th>7</th>\n",
       "      <td>localhost 127.0.0.1</td>\n",
       "      <td>[23/Feb/2014:03:10:31 +0100] \"OPTIONS * HTTP/...</td>\n",
       "    </tr>\n",
       "    <tr>\n",
       "      <th>8</th>\n",
       "      <td>localhost 127.0.0.1</td>\n",
       "      <td>[23/Feb/2014:03:10:31 +0100] \"OPTIONS * HTTP/...</td>\n",
       "    </tr>\n",
       "    <tr>\n",
       "      <th>9</th>\n",
       "      <td>localhost 127.0.0.1</td>\n",
       "      <td>[23/Feb/2014:03:10:31 +0100] \"OPTIONS * HTTP/...</td>\n",
       "    </tr>\n",
       "  </tbody>\n",
       "</table>\n",
       "</div>"
      ],
      "text/plain": [
       "                    web                                               text\n",
       "0  localhost 127.0.0.1    [23/Feb/2014:03:10:31 +0100] \"OPTIONS * HTTP/...\n",
       "1  localhost 127.0.0.1    [23/Feb/2014:03:10:31 +0100] \"OPTIONS * HTTP/...\n",
       "2  localhost 127.0.0.1    [23/Feb/2014:03:10:31 +0100] \"OPTIONS * HTTP/...\n",
       "3  localhost 127.0.0.1    [23/Feb/2014:03:10:31 +0100] \"OPTIONS * HTTP/...\n",
       "4  localhost 127.0.0.1    [23/Feb/2014:03:10:31 +0100] \"OPTIONS * HTTP/...\n",
       "5  localhost 127.0.0.1    [23/Feb/2014:03:10:31 +0100] \"OPTIONS * HTTP/...\n",
       "6  localhost 127.0.0.1    [23/Feb/2014:03:10:31 +0100] \"OPTIONS * HTTP/...\n",
       "7  localhost 127.0.0.1    [23/Feb/2014:03:10:31 +0100] \"OPTIONS * HTTP/...\n",
       "8  localhost 127.0.0.1    [23/Feb/2014:03:10:31 +0100] \"OPTIONS * HTTP/...\n",
       "9  localhost 127.0.0.1    [23/Feb/2014:03:10:31 +0100] \"OPTIONS * HTTP/..."
      ]
     },
     "execution_count": 5,
     "metadata": {},
     "output_type": "execute_result"
    }
   ],
   "source": [
    "log.head(10)"
   ]
  },
  {
   "cell_type": "code",
   "execution_count": 6,
   "metadata": {},
   "outputs": [
    {
     "data": {
      "text/plain": [
       "web      0\n",
       "text    27\n",
       "dtype: int64"
      ]
     },
     "execution_count": 6,
     "metadata": {},
     "output_type": "execute_result"
    }
   ],
   "source": [
    "log.isnull().sum()"
   ]
  },
  {
   "cell_type": "code",
   "execution_count": 7,
   "metadata": {},
   "outputs": [],
   "source": [
    "log.dropna(axis=0,inplace=True) # remove columns with null values"
   ]
  },
  {
   "cell_type": "code",
   "execution_count": 8,
   "metadata": {},
   "outputs": [
    {
     "data": {
      "text/html": [
       "<div>\n",
       "<style scoped>\n",
       "    .dataframe tbody tr th:only-of-type {\n",
       "        vertical-align: middle;\n",
       "    }\n",
       "\n",
       "    .dataframe tbody tr th {\n",
       "        vertical-align: top;\n",
       "    }\n",
       "\n",
       "    .dataframe thead th {\n",
       "        text-align: right;\n",
       "    }\n",
       "</style>\n",
       "<table border=\"1\" class=\"dataframe\">\n",
       "  <thead>\n",
       "    <tr style=\"text-align: right;\">\n",
       "      <th></th>\n",
       "      <th>web</th>\n",
       "      <th>text</th>\n",
       "    </tr>\n",
       "  </thead>\n",
       "  <tbody>\n",
       "    <tr>\n",
       "      <th>0</th>\n",
       "      <td>localhost 127.0.0.1</td>\n",
       "      <td>[23/Feb/2014:03:10:31 +0100] \"OPTIONS * HTTP/...</td>\n",
       "    </tr>\n",
       "    <tr>\n",
       "      <th>1</th>\n",
       "      <td>localhost 127.0.0.1</td>\n",
       "      <td>[23/Feb/2014:03:10:31 +0100] \"OPTIONS * HTTP/...</td>\n",
       "    </tr>\n",
       "    <tr>\n",
       "      <th>2</th>\n",
       "      <td>localhost 127.0.0.1</td>\n",
       "      <td>[23/Feb/2014:03:10:31 +0100] \"OPTIONS * HTTP/...</td>\n",
       "    </tr>\n",
       "    <tr>\n",
       "      <th>3</th>\n",
       "      <td>localhost 127.0.0.1</td>\n",
       "      <td>[23/Feb/2014:03:10:31 +0100] \"OPTIONS * HTTP/...</td>\n",
       "    </tr>\n",
       "    <tr>\n",
       "      <th>4</th>\n",
       "      <td>localhost 127.0.0.1</td>\n",
       "      <td>[23/Feb/2014:03:10:31 +0100] \"OPTIONS * HTTP/...</td>\n",
       "    </tr>\n",
       "  </tbody>\n",
       "</table>\n",
       "</div>"
      ],
      "text/plain": [
       "                    web                                               text\n",
       "0  localhost 127.0.0.1    [23/Feb/2014:03:10:31 +0100] \"OPTIONS * HTTP/...\n",
       "1  localhost 127.0.0.1    [23/Feb/2014:03:10:31 +0100] \"OPTIONS * HTTP/...\n",
       "2  localhost 127.0.0.1    [23/Feb/2014:03:10:31 +0100] \"OPTIONS * HTTP/...\n",
       "3  localhost 127.0.0.1    [23/Feb/2014:03:10:31 +0100] \"OPTIONS * HTTP/...\n",
       "4  localhost 127.0.0.1    [23/Feb/2014:03:10:31 +0100] \"OPTIONS * HTTP/..."
      ]
     },
     "execution_count": 8,
     "metadata": {},
     "output_type": "execute_result"
    }
   ],
   "source": [
    "log.head()"
   ]
  },
  {
   "cell_type": "code",
   "execution_count": 9,
   "metadata": {},
   "outputs": [],
   "source": [
    "# remove those row containing local host \n",
    "log = log[~log.web.str.contains('localhost')]\n",
    "log.reset_index(drop=True,inplace=True)"
   ]
  },
  {
   "cell_type": "code",
   "execution_count": 10,
   "metadata": {},
   "outputs": [],
   "source": [
    "log[['host','ip']] = log.web.str.split(' ',expand=True).get([0,1])"
   ]
  },
  {
   "cell_type": "code",
   "execution_count": 11,
   "metadata": {
    "slideshow": {
     "slide_type": "-"
    }
   },
   "outputs": [],
   "source": [
    "log.drop(['web'],axis=1,inplace=True)"
   ]
  },
  {
   "cell_type": "code",
   "execution_count": 12,
   "metadata": {},
   "outputs": [
    {
     "data": {
      "text/html": [
       "<div>\n",
       "<style scoped>\n",
       "    .dataframe tbody tr th:only-of-type {\n",
       "        vertical-align: middle;\n",
       "    }\n",
       "\n",
       "    .dataframe tbody tr th {\n",
       "        vertical-align: top;\n",
       "    }\n",
       "\n",
       "    .dataframe thead th {\n",
       "        text-align: right;\n",
       "    }\n",
       "</style>\n",
       "<table border=\"1\" class=\"dataframe\">\n",
       "  <thead>\n",
       "    <tr style=\"text-align: right;\">\n",
       "      <th></th>\n",
       "      <th>text</th>\n",
       "      <th>host</th>\n",
       "      <th>ip</th>\n",
       "    </tr>\n",
       "  </thead>\n",
       "  <tbody>\n",
       "    <tr>\n",
       "      <th>0</th>\n",
       "      <td>[23/Feb/2014:03:10:31 +0100] \"GET /hoteles-ba...</td>\n",
       "      <td>www.akumenius.com</td>\n",
       "      <td>66.249.76.216</td>\n",
       "    </tr>\n",
       "    <tr>\n",
       "      <th>1</th>\n",
       "      <td>[23/Feb/2014:03:10:33 +0100] \"GET /hoteles-ba...</td>\n",
       "      <td>www.akumenius.com</td>\n",
       "      <td>66.249.76.216</td>\n",
       "    </tr>\n",
       "    <tr>\n",
       "      <th>2</th>\n",
       "      <td>[23/Feb/2014:03:10:35 +0100] \"GET /hoteles-ba...</td>\n",
       "      <td>www.akumenius.com</td>\n",
       "      <td>66.249.76.216</td>\n",
       "    </tr>\n",
       "    <tr>\n",
       "      <th>3</th>\n",
       "      <td>[23/Feb/2014:03:10:38 +0100] \"GET /hoteles-ba...</td>\n",
       "      <td>www.akumenius.com</td>\n",
       "      <td>66.249.76.216</td>\n",
       "    </tr>\n",
       "    <tr>\n",
       "      <th>4</th>\n",
       "      <td>[23/Feb/2014:03:10:39 +0100] \"GET /destinos-b...</td>\n",
       "      <td>www.akumenius.com</td>\n",
       "      <td>66.249.76.216</td>\n",
       "    </tr>\n",
       "  </tbody>\n",
       "</table>\n",
       "</div>"
      ],
      "text/plain": [
       "                                                text               host  \\\n",
       "0   [23/Feb/2014:03:10:31 +0100] \"GET /hoteles-ba...  www.akumenius.com   \n",
       "1   [23/Feb/2014:03:10:33 +0100] \"GET /hoteles-ba...  www.akumenius.com   \n",
       "2   [23/Feb/2014:03:10:35 +0100] \"GET /hoteles-ba...  www.akumenius.com   \n",
       "3   [23/Feb/2014:03:10:38 +0100] \"GET /hoteles-ba...  www.akumenius.com   \n",
       "4   [23/Feb/2014:03:10:39 +0100] \"GET /destinos-b...  www.akumenius.com   \n",
       "\n",
       "              ip  \n",
       "0  66.249.76.216  \n",
       "1  66.249.76.216  \n",
       "2  66.249.76.216  \n",
       "3  66.249.76.216  \n",
       "4  66.249.76.216  "
      ]
     },
     "execution_count": 12,
     "metadata": {},
     "output_type": "execute_result"
    }
   ],
   "source": [
    "log.head()"
   ]
  },
  {
   "cell_type": "code",
   "execution_count": 13,
   "metadata": {},
   "outputs": [
    {
     "data": {
      "text/plain": [
       "' [23/Feb/2014:03:10:33 +0100] \"GET /hoteles-baratos/ofertas-hotel-Metropolis-Hotel-en-Kaunas-210244b-destinos.html HTTP/1.1\" 404 3100 \"-\" \"Mozilla/5.0 (compatible; Googlebot/2.1; +http://www.google.com/bot.html)\" VLOG=-'"
      ]
     },
     "execution_count": 13,
     "metadata": {},
     "output_type": "execute_result"
    }
   ],
   "source": [
    "log.text[1]\n",
    "#contains date/time, an HTTP request (GET or POST) to a specific place, response from the system:\n",
    "# response 200 --> received response, different kind of responses from 200 to 400\n",
    "# response 401 --> authentication required\n",
    "#web browser info"
   ]
  },
  {
   "cell_type": "code",
   "execution_count": 14,
   "metadata": {},
   "outputs": [],
   "source": [
    "log['date']= log.text.str.extract('(\\d+/\\w+/\\d+)')"
   ]
  },
  {
   "cell_type": "code",
   "execution_count": 15,
   "metadata": {},
   "outputs": [],
   "source": [
    "log['time'] = log.text.str.extract(':(\\d{2}:\\d{2}:\\d{2}.*)]')"
   ]
  },
  {
   "cell_type": "code",
   "execution_count": 16,
   "metadata": {},
   "outputs": [
    {
     "data": {
      "text/html": [
       "<div>\n",
       "<style scoped>\n",
       "    .dataframe tbody tr th:only-of-type {\n",
       "        vertical-align: middle;\n",
       "    }\n",
       "\n",
       "    .dataframe tbody tr th {\n",
       "        vertical-align: top;\n",
       "    }\n",
       "\n",
       "    .dataframe thead th {\n",
       "        text-align: right;\n",
       "    }\n",
       "</style>\n",
       "<table border=\"1\" class=\"dataframe\">\n",
       "  <thead>\n",
       "    <tr style=\"text-align: right;\">\n",
       "      <th></th>\n",
       "      <th>text</th>\n",
       "      <th>host</th>\n",
       "      <th>ip</th>\n",
       "      <th>date</th>\n",
       "      <th>time</th>\n",
       "    </tr>\n",
       "  </thead>\n",
       "  <tbody>\n",
       "    <tr>\n",
       "      <th>0</th>\n",
       "      <td>[23/Feb/2014:03:10:31 +0100] \"GET /hoteles-ba...</td>\n",
       "      <td>www.akumenius.com</td>\n",
       "      <td>66.249.76.216</td>\n",
       "      <td>23/Feb/2014</td>\n",
       "      <td>03:10:31 +0100</td>\n",
       "    </tr>\n",
       "    <tr>\n",
       "      <th>1</th>\n",
       "      <td>[23/Feb/2014:03:10:33 +0100] \"GET /hoteles-ba...</td>\n",
       "      <td>www.akumenius.com</td>\n",
       "      <td>66.249.76.216</td>\n",
       "      <td>23/Feb/2014</td>\n",
       "      <td>03:10:33 +0100</td>\n",
       "    </tr>\n",
       "    <tr>\n",
       "      <th>2</th>\n",
       "      <td>[23/Feb/2014:03:10:35 +0100] \"GET /hoteles-ba...</td>\n",
       "      <td>www.akumenius.com</td>\n",
       "      <td>66.249.76.216</td>\n",
       "      <td>23/Feb/2014</td>\n",
       "      <td>03:10:35 +0100</td>\n",
       "    </tr>\n",
       "    <tr>\n",
       "      <th>3</th>\n",
       "      <td>[23/Feb/2014:03:10:38 +0100] \"GET /hoteles-ba...</td>\n",
       "      <td>www.akumenius.com</td>\n",
       "      <td>66.249.76.216</td>\n",
       "      <td>23/Feb/2014</td>\n",
       "      <td>03:10:38 +0100</td>\n",
       "    </tr>\n",
       "    <tr>\n",
       "      <th>4</th>\n",
       "      <td>[23/Feb/2014:03:10:39 +0100] \"GET /destinos-b...</td>\n",
       "      <td>www.akumenius.com</td>\n",
       "      <td>66.249.76.216</td>\n",
       "      <td>23/Feb/2014</td>\n",
       "      <td>03:10:39 +0100</td>\n",
       "    </tr>\n",
       "  </tbody>\n",
       "</table>\n",
       "</div>"
      ],
      "text/plain": [
       "                                                text               host  \\\n",
       "0   [23/Feb/2014:03:10:31 +0100] \"GET /hoteles-ba...  www.akumenius.com   \n",
       "1   [23/Feb/2014:03:10:33 +0100] \"GET /hoteles-ba...  www.akumenius.com   \n",
       "2   [23/Feb/2014:03:10:35 +0100] \"GET /hoteles-ba...  www.akumenius.com   \n",
       "3   [23/Feb/2014:03:10:38 +0100] \"GET /hoteles-ba...  www.akumenius.com   \n",
       "4   [23/Feb/2014:03:10:39 +0100] \"GET /destinos-b...  www.akumenius.com   \n",
       "\n",
       "              ip         date            time  \n",
       "0  66.249.76.216  23/Feb/2014  03:10:31 +0100  \n",
       "1  66.249.76.216  23/Feb/2014  03:10:33 +0100  \n",
       "2  66.249.76.216  23/Feb/2014  03:10:35 +0100  \n",
       "3  66.249.76.216  23/Feb/2014  03:10:38 +0100  \n",
       "4  66.249.76.216  23/Feb/2014  03:10:39 +0100  "
      ]
     },
     "execution_count": 16,
     "metadata": {},
     "output_type": "execute_result"
    }
   ],
   "source": [
    "log.head()"
   ]
  },
  {
   "cell_type": "code",
   "execution_count": 17,
   "metadata": {},
   "outputs": [],
   "source": [
    "log[['peticion','respuesta','user_data']] = log.text.str.split('\"',expand=True).get([1,2,5])"
   ]
  },
  {
   "cell_type": "code",
   "execution_count": 18,
   "metadata": {},
   "outputs": [],
   "source": [
    "log[['code','bytes']] = log.respuesta.str.split(' ',n=3,expand=True).get([1,2])"
   ]
  },
  {
   "cell_type": "code",
   "execution_count": 19,
   "metadata": {},
   "outputs": [],
   "source": [
    "log.drop(['text','respuesta'],axis=1,inplace=True)"
   ]
  },
  {
   "cell_type": "code",
   "execution_count": 20,
   "metadata": {},
   "outputs": [
    {
     "data": {
      "text/html": [
       "<div>\n",
       "<style scoped>\n",
       "    .dataframe tbody tr th:only-of-type {\n",
       "        vertical-align: middle;\n",
       "    }\n",
       "\n",
       "    .dataframe tbody tr th {\n",
       "        vertical-align: top;\n",
       "    }\n",
       "\n",
       "    .dataframe thead th {\n",
       "        text-align: right;\n",
       "    }\n",
       "</style>\n",
       "<table border=\"1\" class=\"dataframe\">\n",
       "  <thead>\n",
       "    <tr style=\"text-align: right;\">\n",
       "      <th></th>\n",
       "      <th>host</th>\n",
       "      <th>ip</th>\n",
       "      <th>date</th>\n",
       "      <th>time</th>\n",
       "      <th>peticion</th>\n",
       "      <th>user_data</th>\n",
       "      <th>code</th>\n",
       "      <th>bytes</th>\n",
       "    </tr>\n",
       "  </thead>\n",
       "  <tbody>\n",
       "    <tr>\n",
       "      <th>0</th>\n",
       "      <td>www.akumenius.com</td>\n",
       "      <td>66.249.76.216</td>\n",
       "      <td>23/Feb/2014</td>\n",
       "      <td>03:10:31 +0100</td>\n",
       "      <td>GET /hoteles-baratos/ofertas-hotel-Club-&amp;-Hote...</td>\n",
       "      <td>Mozilla/5.0 (compatible; Googlebot/2.1; +http:...</td>\n",
       "      <td>404</td>\n",
       "      <td>3100</td>\n",
       "    </tr>\n",
       "    <tr>\n",
       "      <th>1</th>\n",
       "      <td>www.akumenius.com</td>\n",
       "      <td>66.249.76.216</td>\n",
       "      <td>23/Feb/2014</td>\n",
       "      <td>03:10:33 +0100</td>\n",
       "      <td>GET /hoteles-baratos/ofertas-hotel-Metropolis-...</td>\n",
       "      <td>Mozilla/5.0 (compatible; Googlebot/2.1; +http:...</td>\n",
       "      <td>404</td>\n",
       "      <td>3100</td>\n",
       "    </tr>\n",
       "    <tr>\n",
       "      <th>2</th>\n",
       "      <td>www.akumenius.com</td>\n",
       "      <td>66.249.76.216</td>\n",
       "      <td>23/Feb/2014</td>\n",
       "      <td>03:10:35 +0100</td>\n",
       "      <td>GET /hoteles-baratos/ofertas-hotel-Faena-Hotel...</td>\n",
       "      <td>Mozilla/5.0 (compatible; Googlebot/2.1; +http:...</td>\n",
       "      <td>404</td>\n",
       "      <td>3100</td>\n",
       "    </tr>\n",
       "    <tr>\n",
       "      <th>3</th>\n",
       "      <td>www.akumenius.com</td>\n",
       "      <td>66.249.76.216</td>\n",
       "      <td>23/Feb/2014</td>\n",
       "      <td>03:10:38 +0100</td>\n",
       "      <td>GET /hoteles-baratos/ofertas-hotel-Kensington-...</td>\n",
       "      <td>Mozilla/5.0 (compatible; Googlebot/2.1; +http:...</td>\n",
       "      <td>404</td>\n",
       "      <td>3100</td>\n",
       "    </tr>\n",
       "    <tr>\n",
       "      <th>4</th>\n",
       "      <td>www.akumenius.com</td>\n",
       "      <td>66.249.76.216</td>\n",
       "      <td>23/Feb/2014</td>\n",
       "      <td>03:10:39 +0100</td>\n",
       "      <td>GET /destinos-baratos/destinosEstrelles/hotele...</td>\n",
       "      <td>Mozilla/5.0 (compatible; Googlebot/2.1; +http:...</td>\n",
       "      <td>200</td>\n",
       "      <td>8811</td>\n",
       "    </tr>\n",
       "  </tbody>\n",
       "</table>\n",
       "</div>"
      ],
      "text/plain": [
       "                host             ip         date            time  \\\n",
       "0  www.akumenius.com  66.249.76.216  23/Feb/2014  03:10:31 +0100   \n",
       "1  www.akumenius.com  66.249.76.216  23/Feb/2014  03:10:33 +0100   \n",
       "2  www.akumenius.com  66.249.76.216  23/Feb/2014  03:10:35 +0100   \n",
       "3  www.akumenius.com  66.249.76.216  23/Feb/2014  03:10:38 +0100   \n",
       "4  www.akumenius.com  66.249.76.216  23/Feb/2014  03:10:39 +0100   \n",
       "\n",
       "                                            peticion  \\\n",
       "0  GET /hoteles-baratos/ofertas-hotel-Club-&-Hote...   \n",
       "1  GET /hoteles-baratos/ofertas-hotel-Metropolis-...   \n",
       "2  GET /hoteles-baratos/ofertas-hotel-Faena-Hotel...   \n",
       "3  GET /hoteles-baratos/ofertas-hotel-Kensington-...   \n",
       "4  GET /destinos-baratos/destinosEstrelles/hotele...   \n",
       "\n",
       "                                           user_data code bytes  \n",
       "0  Mozilla/5.0 (compatible; Googlebot/2.1; +http:...  404  3100  \n",
       "1  Mozilla/5.0 (compatible; Googlebot/2.1; +http:...  404  3100  \n",
       "2  Mozilla/5.0 (compatible; Googlebot/2.1; +http:...  404  3100  \n",
       "3  Mozilla/5.0 (compatible; Googlebot/2.1; +http:...  404  3100  \n",
       "4  Mozilla/5.0 (compatible; Googlebot/2.1; +http:...  200  8811  "
      ]
     },
     "execution_count": 20,
     "metadata": {},
     "output_type": "execute_result"
    }
   ],
   "source": [
    "log.head()"
   ]
  },
  {
   "cell_type": "code",
   "execution_count": 21,
   "metadata": {},
   "outputs": [
    {
     "data": {
      "text/plain": [
       "'GET /destinos-baratos/destinosEstrelles/hoteles-en-Nova%20Milanese_ITALIA-con-1-estrella HTTP/1.1'"
      ]
     },
     "execution_count": 21,
     "metadata": {},
     "output_type": "execute_result"
    }
   ],
   "source": [
    "log.peticion[90] # resultado de como queda"
   ]
  },
  {
   "cell_type": "code",
   "execution_count": 22,
   "metadata": {},
   "outputs": [],
   "source": [
    "log[['request','info']] = log.peticion.str.split(' ',expand=True).get([0,1])"
   ]
  },
  {
   "cell_type": "code",
   "execution_count": 23,
   "metadata": {},
   "outputs": [
    {
     "data": {
      "text/html": [
       "<div>\n",
       "<style scoped>\n",
       "    .dataframe tbody tr th:only-of-type {\n",
       "        vertical-align: middle;\n",
       "    }\n",
       "\n",
       "    .dataframe tbody tr th {\n",
       "        vertical-align: top;\n",
       "    }\n",
       "\n",
       "    .dataframe thead th {\n",
       "        text-align: right;\n",
       "    }\n",
       "</style>\n",
       "<table border=\"1\" class=\"dataframe\">\n",
       "  <thead>\n",
       "    <tr style=\"text-align: right;\">\n",
       "      <th></th>\n",
       "      <th>host</th>\n",
       "      <th>ip</th>\n",
       "      <th>date</th>\n",
       "      <th>time</th>\n",
       "      <th>peticion</th>\n",
       "      <th>user_data</th>\n",
       "      <th>code</th>\n",
       "      <th>bytes</th>\n",
       "      <th>request</th>\n",
       "      <th>info</th>\n",
       "    </tr>\n",
       "  </thead>\n",
       "  <tbody>\n",
       "    <tr>\n",
       "      <th>0</th>\n",
       "      <td>www.akumenius.com</td>\n",
       "      <td>66.249.76.216</td>\n",
       "      <td>23/Feb/2014</td>\n",
       "      <td>03:10:31 +0100</td>\n",
       "      <td>GET /hoteles-baratos/ofertas-hotel-Club-&amp;-Hote...</td>\n",
       "      <td>Mozilla/5.0 (compatible; Googlebot/2.1; +http:...</td>\n",
       "      <td>404</td>\n",
       "      <td>3100</td>\n",
       "      <td>GET</td>\n",
       "      <td>/hoteles-baratos/ofertas-hotel-Club-&amp;-Hotel-Le...</td>\n",
       "    </tr>\n",
       "    <tr>\n",
       "      <th>1</th>\n",
       "      <td>www.akumenius.com</td>\n",
       "      <td>66.249.76.216</td>\n",
       "      <td>23/Feb/2014</td>\n",
       "      <td>03:10:33 +0100</td>\n",
       "      <td>GET /hoteles-baratos/ofertas-hotel-Metropolis-...</td>\n",
       "      <td>Mozilla/5.0 (compatible; Googlebot/2.1; +http:...</td>\n",
       "      <td>404</td>\n",
       "      <td>3100</td>\n",
       "      <td>GET</td>\n",
       "      <td>/hoteles-baratos/ofertas-hotel-Metropolis-Hote...</td>\n",
       "    </tr>\n",
       "    <tr>\n",
       "      <th>2</th>\n",
       "      <td>www.akumenius.com</td>\n",
       "      <td>66.249.76.216</td>\n",
       "      <td>23/Feb/2014</td>\n",
       "      <td>03:10:35 +0100</td>\n",
       "      <td>GET /hoteles-baratos/ofertas-hotel-Faena-Hotel...</td>\n",
       "      <td>Mozilla/5.0 (compatible; Googlebot/2.1; +http:...</td>\n",
       "      <td>404</td>\n",
       "      <td>3100</td>\n",
       "      <td>GET</td>\n",
       "      <td>/hoteles-baratos/ofertas-hotel-Faena-Hotel-Bue...</td>\n",
       "    </tr>\n",
       "    <tr>\n",
       "      <th>3</th>\n",
       "      <td>www.akumenius.com</td>\n",
       "      <td>66.249.76.216</td>\n",
       "      <td>23/Feb/2014</td>\n",
       "      <td>03:10:38 +0100</td>\n",
       "      <td>GET /hoteles-baratos/ofertas-hotel-Kensington-...</td>\n",
       "      <td>Mozilla/5.0 (compatible; Googlebot/2.1; +http:...</td>\n",
       "      <td>404</td>\n",
       "      <td>3100</td>\n",
       "      <td>GET</td>\n",
       "      <td>/hoteles-baratos/ofertas-hotel-Kensington-Town...</td>\n",
       "    </tr>\n",
       "    <tr>\n",
       "      <th>4</th>\n",
       "      <td>www.akumenius.com</td>\n",
       "      <td>66.249.76.216</td>\n",
       "      <td>23/Feb/2014</td>\n",
       "      <td>03:10:39 +0100</td>\n",
       "      <td>GET /destinos-baratos/destinosEstrelles/hotele...</td>\n",
       "      <td>Mozilla/5.0 (compatible; Googlebot/2.1; +http:...</td>\n",
       "      <td>200</td>\n",
       "      <td>8811</td>\n",
       "      <td>GET</td>\n",
       "      <td>/destinos-baratos/destinosEstrelles/hoteles-en...</td>\n",
       "    </tr>\n",
       "  </tbody>\n",
       "</table>\n",
       "</div>"
      ],
      "text/plain": [
       "                host             ip         date            time  \\\n",
       "0  www.akumenius.com  66.249.76.216  23/Feb/2014  03:10:31 +0100   \n",
       "1  www.akumenius.com  66.249.76.216  23/Feb/2014  03:10:33 +0100   \n",
       "2  www.akumenius.com  66.249.76.216  23/Feb/2014  03:10:35 +0100   \n",
       "3  www.akumenius.com  66.249.76.216  23/Feb/2014  03:10:38 +0100   \n",
       "4  www.akumenius.com  66.249.76.216  23/Feb/2014  03:10:39 +0100   \n",
       "\n",
       "                                            peticion  \\\n",
       "0  GET /hoteles-baratos/ofertas-hotel-Club-&-Hote...   \n",
       "1  GET /hoteles-baratos/ofertas-hotel-Metropolis-...   \n",
       "2  GET /hoteles-baratos/ofertas-hotel-Faena-Hotel...   \n",
       "3  GET /hoteles-baratos/ofertas-hotel-Kensington-...   \n",
       "4  GET /destinos-baratos/destinosEstrelles/hotele...   \n",
       "\n",
       "                                           user_data code bytes request  \\\n",
       "0  Mozilla/5.0 (compatible; Googlebot/2.1; +http:...  404  3100     GET   \n",
       "1  Mozilla/5.0 (compatible; Googlebot/2.1; +http:...  404  3100     GET   \n",
       "2  Mozilla/5.0 (compatible; Googlebot/2.1; +http:...  404  3100     GET   \n",
       "3  Mozilla/5.0 (compatible; Googlebot/2.1; +http:...  404  3100     GET   \n",
       "4  Mozilla/5.0 (compatible; Googlebot/2.1; +http:...  200  8811     GET   \n",
       "\n",
       "                                                info  \n",
       "0  /hoteles-baratos/ofertas-hotel-Club-&-Hotel-Le...  \n",
       "1  /hoteles-baratos/ofertas-hotel-Metropolis-Hote...  \n",
       "2  /hoteles-baratos/ofertas-hotel-Faena-Hotel-Bue...  \n",
       "3  /hoteles-baratos/ofertas-hotel-Kensington-Town...  \n",
       "4  /destinos-baratos/destinosEstrelles/hoteles-en...  "
      ]
     },
     "execution_count": 23,
     "metadata": {},
     "output_type": "execute_result"
    }
   ],
   "source": [
    "log.head()"
   ]
  },
  {
   "cell_type": "code",
   "execution_count": 24,
   "metadata": {},
   "outputs": [
    {
     "data": {
      "text/plain": [
       "(247719, 10)"
      ]
     },
     "execution_count": 24,
     "metadata": {},
     "output_type": "execute_result"
    }
   ],
   "source": [
    "log.shape"
   ]
  },
  {
   "cell_type": "code",
   "execution_count": 25,
   "metadata": {},
   "outputs": [
    {
     "data": {
      "text/plain": [
       "<seaborn.axisgrid.FacetGrid at 0x7ff7b847ef10>"
      ]
     },
     "execution_count": 25,
     "metadata": {},
     "output_type": "execute_result"
    },
    {
     "data": {
      "image/png": "[encoded data removed]",
      "text/plain": [
       "<Figure size 360x360 with 1 Axes>"
      ]
     },
     "metadata": {
      "needs_background": "light"
     },
     "output_type": "display_data"
    }
   ],
   "source": [
    "sns.catplot(x='code',kind='count',data=log)"
   ]
  },
  {
   "cell_type": "code",
   "execution_count": 26,
   "metadata": {},
   "outputs": [
    {
     "data": {
      "text/plain": [
       "2858"
      ]
     },
     "execution_count": 26,
     "metadata": {},
     "output_type": "execute_result"
    }
   ],
   "source": [
    "log.ip.nunique()"
   ]
  },
  {
   "cell_type": "markdown",
   "metadata": {},
   "source": [
    "## Exercisi 3"
   ]
  },
  {
   "cell_type": "code",
   "execution_count": 27,
   "metadata": {},
   "outputs": [],
   "source": [
    "import json\n",
    "import os\n",
    "from pandas import json_normalize\n",
    "import numpy as np\n",
    "from ip2geotools.databases.noncommercial import DbIpCity"
   ]
  },
  {
   "cell_type": "code",
   "execution_count": 28,
   "metadata": {},
   "outputs": [],
   "source": [
    "all_ip= list(set(log.ip)) # unique ips"
   ]
  },
  {
   "cell_type": "code",
   "execution_count": 29,
   "metadata": {},
   "outputs": [
    {
     "data": {
      "text/plain": [
       "(2858, list)"
      ]
     },
     "execution_count": 29,
     "metadata": {},
     "output_type": "execute_result"
    }
   ],
   "source": [
    "len(all_ip),type(all_ip)"
   ]
  },
  {
   "cell_type": "code",
   "execution_count": 30,
   "metadata": {},
   "outputs": [],
   "source": [
    "def extract_info_from_ip(ip):\n",
    "    response = DbIpCity.get(ip, api_key='free').to_json()\n",
    "    data= json.loads(response)  # return dictionary \n",
    "    return data\n",
    "    \n",
    "    \n",
    "ip = '66.249.76.216'\n",
    "#extract_info_from_ip(ip)"
   ]
  },
  {
   "cell_type": "code",
   "execution_count": 155,
   "metadata": {
    "scrolled": false
   },
   "outputs": [],
   "source": [
    "ip_extract_info = []\n",
    "for i in range(0,2858):\n",
    "    ip_extract_info.append(extract_info_from_ip(all_ip[i]))"
   ]
  },
  {
   "cell_type": "code",
   "execution_count": 158,
   "metadata": {},
   "outputs": [
    {
     "data": {
      "text/plain": [
       "214"
      ]
     },
     "execution_count": 158,
     "metadata": {},
     "output_type": "execute_result"
    }
   ],
   "source": [
    "len(ip_extract_info)"
   ]
  },
  {
   "cell_type": "code",
   "execution_count": 159,
   "metadata": {},
   "outputs": [],
   "source": [
    "#save data into a file multiple times because everyday i can only read 1000 records of ip info\n",
    "with open('./data/ip_data.json', 'a') as file:\n",
    "    json.dump(ip_extract_info, file)\n",
    "    file.write(os.linesep)"
   ]
  },
  {
   "cell_type": "code",
   "execution_count": 31,
   "metadata": {},
   "outputs": [],
   "source": [
    "# load data from file\n",
    "with open('./data/ip_data.json') as file:\n",
    "    ip_list = [json.loads(line) for line in file]"
   ]
  },
  {
   "cell_type": "code",
   "execution_count": 32,
   "metadata": {},
   "outputs": [
    {
     "name": "stdout",
     "output_type": "stream",
     "text": [
      "500 1000 898 244 214\n"
     ]
    }
   ],
   "source": [
    "day1 = ip_list[0] # day 1 data,etc...\n",
    "day2 = ip_list[1]\n",
    "day3 = ip_list[2]\n",
    "day4 = ip_list[3]\n",
    "day5 = ip_list[4]\n",
    "print(len(day1),len(day2),len(day3),len(day4),len(day5))"
   ]
  },
  {
   "cell_type": "code",
   "execution_count": 33,
   "metadata": {},
   "outputs": [
    {
     "name": "stdout",
     "output_type": "stream",
     "text": [
      "2856\n"
     ]
    }
   ],
   "source": [
    "days = day1 + day2 +day3+day4+day5\n",
    "print(len(days))\n"
   ]
  },
  {
   "cell_type": "code",
   "execution_count": 34,
   "metadata": {},
   "outputs": [],
   "source": [
    "def extract_matching(x):\n",
    "    for info in days:        \n",
    "        if x == info['ip_address']:\n",
    "            return info"
   ]
  },
  {
   "cell_type": "code",
   "execution_count": 35,
   "metadata": {},
   "outputs": [],
   "source": [
    "log[\"contents\"] = np.nan"
   ]
  },
  {
   "cell_type": "code",
   "execution_count": 36,
   "metadata": {},
   "outputs": [],
   "source": [
    "log['contents'] = log['ip'].apply(extract_matching)"
   ]
  },
  {
   "cell_type": "code",
   "execution_count": 37,
   "metadata": {},
   "outputs": [
    {
     "data": {
      "text/plain": [
       "host             0\n",
       "ip               0\n",
       "date             0\n",
       "time             0\n",
       "peticion         0\n",
       "user_data        0\n",
       "code             2\n",
       "bytes            2\n",
       "request          0\n",
       "info             0\n",
       "contents     28855\n",
       "dtype: int64"
      ]
     },
     "execution_count": 37,
     "metadata": {},
     "output_type": "execute_result"
    }
   ],
   "source": [
    "log.isnull().sum()"
   ]
  },
  {
   "cell_type": "code",
   "execution_count": 38,
   "metadata": {},
   "outputs": [],
   "source": [
    "# drop null \n",
    "log1= log.dropna()"
   ]
  },
  {
   "cell_type": "code",
   "execution_count": 39,
   "metadata": {},
   "outputs": [],
   "source": [
    "df_contents = json_normalize(log1['contents'])"
   ]
  },
  {
   "cell_type": "code",
   "execution_count": 41,
   "metadata": {},
   "outputs": [
    {
     "data": {
      "text/plain": [
       "ip_address    0\n",
       "city          0\n",
       "region        0\n",
       "country       0\n",
       "latitude      0\n",
       "longitude     0\n",
       "dtype: int64"
      ]
     },
     "execution_count": 41,
     "metadata": {},
     "output_type": "execute_result"
    }
   ],
   "source": [
    "df_contents.dropna(inplace=True)\n",
    "df_contents.isnull().sum()"
   ]
  },
  {
   "cell_type": "code",
   "execution_count": 42,
   "metadata": {},
   "outputs": [],
   "source": [
    "df= pd.concat([log,df_contents],axis=1)"
   ]
  },
  {
   "cell_type": "code",
   "execution_count": 43,
   "metadata": {},
   "outputs": [
    {
     "data": {
      "text/html": [
       "<div>\n",
       "<style scoped>\n",
       "    .dataframe tbody tr th:only-of-type {\n",
       "        vertical-align: middle;\n",
       "    }\n",
       "\n",
       "    .dataframe tbody tr th {\n",
       "        vertical-align: top;\n",
       "    }\n",
       "\n",
       "    .dataframe thead th {\n",
       "        text-align: right;\n",
       "    }\n",
       "</style>\n",
       "<table border=\"1\" class=\"dataframe\">\n",
       "  <thead>\n",
       "    <tr style=\"text-align: right;\">\n",
       "      <th></th>\n",
       "      <th>host</th>\n",
       "      <th>date</th>\n",
       "      <th>time</th>\n",
       "      <th>peticion</th>\n",
       "      <th>user_data</th>\n",
       "      <th>code</th>\n",
       "      <th>bytes</th>\n",
       "      <th>request</th>\n",
       "      <th>info</th>\n",
       "      <th>ip_address</th>\n",
       "      <th>city</th>\n",
       "      <th>region</th>\n",
       "      <th>country</th>\n",
       "      <th>latitude</th>\n",
       "      <th>longitude</th>\n",
       "    </tr>\n",
       "  </thead>\n",
       "  <tbody>\n",
       "    <tr>\n",
       "      <th>0</th>\n",
       "      <td>www.akumenius.com</td>\n",
       "      <td>23/Feb/2014</td>\n",
       "      <td>03:10:31 +0100</td>\n",
       "      <td>GET /hoteles-baratos/ofertas-hotel-Club-&amp;-Hote...</td>\n",
       "      <td>Mozilla/5.0 (compatible; Googlebot/2.1; +http:...</td>\n",
       "      <td>404</td>\n",
       "      <td>3100</td>\n",
       "      <td>GET</td>\n",
       "      <td>/hoteles-baratos/ofertas-hotel-Club-&amp;-Hotel-Le...</td>\n",
       "      <td>66.249.76.216</td>\n",
       "      <td>Mountain View</td>\n",
       "      <td>California</td>\n",
       "      <td>US</td>\n",
       "      <td>37.389389</td>\n",
       "      <td>-122.08321</td>\n",
       "    </tr>\n",
       "    <tr>\n",
       "      <th>1</th>\n",
       "      <td>www.akumenius.com</td>\n",
       "      <td>23/Feb/2014</td>\n",
       "      <td>03:10:33 +0100</td>\n",
       "      <td>GET /hoteles-baratos/ofertas-hotel-Metropolis-...</td>\n",
       "      <td>Mozilla/5.0 (compatible; Googlebot/2.1; +http:...</td>\n",
       "      <td>404</td>\n",
       "      <td>3100</td>\n",
       "      <td>GET</td>\n",
       "      <td>/hoteles-baratos/ofertas-hotel-Metropolis-Hote...</td>\n",
       "      <td>66.249.76.216</td>\n",
       "      <td>Mountain View</td>\n",
       "      <td>California</td>\n",
       "      <td>US</td>\n",
       "      <td>37.389389</td>\n",
       "      <td>-122.08321</td>\n",
       "    </tr>\n",
       "    <tr>\n",
       "      <th>2</th>\n",
       "      <td>www.akumenius.com</td>\n",
       "      <td>23/Feb/2014</td>\n",
       "      <td>03:10:35 +0100</td>\n",
       "      <td>GET /hoteles-baratos/ofertas-hotel-Faena-Hotel...</td>\n",
       "      <td>Mozilla/5.0 (compatible; Googlebot/2.1; +http:...</td>\n",
       "      <td>404</td>\n",
       "      <td>3100</td>\n",
       "      <td>GET</td>\n",
       "      <td>/hoteles-baratos/ofertas-hotel-Faena-Hotel-Bue...</td>\n",
       "      <td>66.249.76.216</td>\n",
       "      <td>Mountain View</td>\n",
       "      <td>California</td>\n",
       "      <td>US</td>\n",
       "      <td>37.389389</td>\n",
       "      <td>-122.08321</td>\n",
       "    </tr>\n",
       "    <tr>\n",
       "      <th>3</th>\n",
       "      <td>www.akumenius.com</td>\n",
       "      <td>23/Feb/2014</td>\n",
       "      <td>03:10:38 +0100</td>\n",
       "      <td>GET /hoteles-baratos/ofertas-hotel-Kensington-...</td>\n",
       "      <td>Mozilla/5.0 (compatible; Googlebot/2.1; +http:...</td>\n",
       "      <td>404</td>\n",
       "      <td>3100</td>\n",
       "      <td>GET</td>\n",
       "      <td>/hoteles-baratos/ofertas-hotel-Kensington-Town...</td>\n",
       "      <td>66.249.76.216</td>\n",
       "      <td>Mountain View</td>\n",
       "      <td>California</td>\n",
       "      <td>US</td>\n",
       "      <td>37.389389</td>\n",
       "      <td>-122.08321</td>\n",
       "    </tr>\n",
       "    <tr>\n",
       "      <th>4</th>\n",
       "      <td>www.akumenius.com</td>\n",
       "      <td>23/Feb/2014</td>\n",
       "      <td>03:10:39 +0100</td>\n",
       "      <td>GET /destinos-baratos/destinosEstrelles/hotele...</td>\n",
       "      <td>Mozilla/5.0 (compatible; Googlebot/2.1; +http:...</td>\n",
       "      <td>200</td>\n",
       "      <td>8811</td>\n",
       "      <td>GET</td>\n",
       "      <td>/destinos-baratos/destinosEstrelles/hoteles-en...</td>\n",
       "      <td>66.249.76.216</td>\n",
       "      <td>Mountain View</td>\n",
       "      <td>California</td>\n",
       "      <td>US</td>\n",
       "      <td>37.389389</td>\n",
       "      <td>-122.08321</td>\n",
       "    </tr>\n",
       "  </tbody>\n",
       "</table>\n",
       "</div>"
      ],
      "text/plain": [
       "                host         date            time  \\\n",
       "0  www.akumenius.com  23/Feb/2014  03:10:31 +0100   \n",
       "1  www.akumenius.com  23/Feb/2014  03:10:33 +0100   \n",
       "2  www.akumenius.com  23/Feb/2014  03:10:35 +0100   \n",
       "3  www.akumenius.com  23/Feb/2014  03:10:38 +0100   \n",
       "4  www.akumenius.com  23/Feb/2014  03:10:39 +0100   \n",
       "\n",
       "                                            peticion  \\\n",
       "0  GET /hoteles-baratos/ofertas-hotel-Club-&-Hote...   \n",
       "1  GET /hoteles-baratos/ofertas-hotel-Metropolis-...   \n",
       "2  GET /hoteles-baratos/ofertas-hotel-Faena-Hotel...   \n",
       "3  GET /hoteles-baratos/ofertas-hotel-Kensington-...   \n",
       "4  GET /destinos-baratos/destinosEstrelles/hotele...   \n",
       "\n",
       "                                           user_data code bytes request  \\\n",
       "0  Mozilla/5.0 (compatible; Googlebot/2.1; +http:...  404  3100     GET   \n",
       "1  Mozilla/5.0 (compatible; Googlebot/2.1; +http:...  404  3100     GET   \n",
       "2  Mozilla/5.0 (compatible; Googlebot/2.1; +http:...  404  3100     GET   \n",
       "3  Mozilla/5.0 (compatible; Googlebot/2.1; +http:...  404  3100     GET   \n",
       "4  Mozilla/5.0 (compatible; Googlebot/2.1; +http:...  200  8811     GET   \n",
       "\n",
       "                                                info     ip_address  \\\n",
       "0  /hoteles-baratos/ofertas-hotel-Club-&-Hotel-Le...  66.249.76.216   \n",
       "1  /hoteles-baratos/ofertas-hotel-Metropolis-Hote...  66.249.76.216   \n",
       "2  /hoteles-baratos/ofertas-hotel-Faena-Hotel-Bue...  66.249.76.216   \n",
       "3  /hoteles-baratos/ofertas-hotel-Kensington-Town...  66.249.76.216   \n",
       "4  /destinos-baratos/destinosEstrelles/hoteles-en...  66.249.76.216   \n",
       "\n",
       "            city      region country   latitude  longitude  \n",
       "0  Mountain View  California      US  37.389389 -122.08321  \n",
       "1  Mountain View  California      US  37.389389 -122.08321  \n",
       "2  Mountain View  California      US  37.389389 -122.08321  \n",
       "3  Mountain View  California      US  37.389389 -122.08321  \n",
       "4  Mountain View  California      US  37.389389 -122.08321  "
      ]
     },
     "execution_count": 43,
     "metadata": {},
     "output_type": "execute_result"
    }
   ],
   "source": [
    "df.drop(['ip','contents'],axis=1,inplace=True)\n",
    "df.head()"
   ]
  },
  {
   "cell_type": "code",
   "execution_count": 44,
   "metadata": {},
   "outputs": [
    {
     "data": {
      "text/plain": [
       "host              0\n",
       "date              0\n",
       "time              0\n",
       "peticion          0\n",
       "user_data         0\n",
       "code              2\n",
       "bytes             2\n",
       "request           0\n",
       "info              0\n",
       "ip_address    29687\n",
       "city          29687\n",
       "region        29687\n",
       "country       29687\n",
       "latitude      29687\n",
       "longitude     29687\n",
       "dtype: int64"
      ]
     },
     "execution_count": 44,
     "metadata": {},
     "output_type": "execute_result"
    }
   ],
   "source": [
    "df.isnull().sum()"
   ]
  },
  {
   "cell_type": "code",
   "execution_count": 45,
   "metadata": {},
   "outputs": [],
   "source": [
    "df.dropna(inplace=True)"
   ]
  },
  {
   "cell_type": "code",
   "execution_count": 92,
   "metadata": {},
   "outputs": [
    {
     "data": {
      "text/html": [
       "<div>\n",
       "<style scoped>\n",
       "    .dataframe tbody tr th:only-of-type {\n",
       "        vertical-align: middle;\n",
       "    }\n",
       "\n",
       "    .dataframe tbody tr th {\n",
       "        vertical-align: top;\n",
       "    }\n",
       "\n",
       "    .dataframe thead th {\n",
       "        text-align: right;\n",
       "    }\n",
       "</style>\n",
       "<table border=\"1\" class=\"dataframe\">\n",
       "  <thead>\n",
       "    <tr style=\"text-align: right;\">\n",
       "      <th></th>\n",
       "      <th>host</th>\n",
       "      <th>date</th>\n",
       "      <th>time</th>\n",
       "      <th>peticion</th>\n",
       "      <th>user_data</th>\n",
       "      <th>code</th>\n",
       "      <th>bytes</th>\n",
       "      <th>request</th>\n",
       "      <th>info</th>\n",
       "      <th>ip_address</th>\n",
       "      <th>city</th>\n",
       "      <th>region</th>\n",
       "      <th>country</th>\n",
       "      <th>latitude</th>\n",
       "      <th>longitude</th>\n",
       "    </tr>\n",
       "  </thead>\n",
       "  <tbody>\n",
       "    <tr>\n",
       "      <th>0</th>\n",
       "      <td>www.akumenius.com</td>\n",
       "      <td>23/Feb/2014</td>\n",
       "      <td>03:10:31 +0100</td>\n",
       "      <td>GET /hoteles-baratos/ofertas-hotel-Club-&amp;-Hote...</td>\n",
       "      <td>Mozilla/5.0 (compatible; Googlebot/2.1; +http:...</td>\n",
       "      <td>404</td>\n",
       "      <td>3100</td>\n",
       "      <td>GET</td>\n",
       "      <td>/hoteles-baratos/ofertas-hotel-Club-&amp;-Hotel-Le...</td>\n",
       "      <td>66.249.76.216</td>\n",
       "      <td>Mountain View</td>\n",
       "      <td>California</td>\n",
       "      <td>US</td>\n",
       "      <td>37.389389</td>\n",
       "      <td>-122.08321</td>\n",
       "    </tr>\n",
       "    <tr>\n",
       "      <th>1</th>\n",
       "      <td>www.akumenius.com</td>\n",
       "      <td>23/Feb/2014</td>\n",
       "      <td>03:10:33 +0100</td>\n",
       "      <td>GET /hoteles-baratos/ofertas-hotel-Metropolis-...</td>\n",
       "      <td>Mozilla/5.0 (compatible; Googlebot/2.1; +http:...</td>\n",
       "      <td>404</td>\n",
       "      <td>3100</td>\n",
       "      <td>GET</td>\n",
       "      <td>/hoteles-baratos/ofertas-hotel-Metropolis-Hote...</td>\n",
       "      <td>66.249.76.216</td>\n",
       "      <td>Mountain View</td>\n",
       "      <td>California</td>\n",
       "      <td>US</td>\n",
       "      <td>37.389389</td>\n",
       "      <td>-122.08321</td>\n",
       "    </tr>\n",
       "    <tr>\n",
       "      <th>2</th>\n",
       "      <td>www.akumenius.com</td>\n",
       "      <td>23/Feb/2014</td>\n",
       "      <td>03:10:35 +0100</td>\n",
       "      <td>GET /hoteles-baratos/ofertas-hotel-Faena-Hotel...</td>\n",
       "      <td>Mozilla/5.0 (compatible; Googlebot/2.1; +http:...</td>\n",
       "      <td>404</td>\n",
       "      <td>3100</td>\n",
       "      <td>GET</td>\n",
       "      <td>/hoteles-baratos/ofertas-hotel-Faena-Hotel-Bue...</td>\n",
       "      <td>66.249.76.216</td>\n",
       "      <td>Mountain View</td>\n",
       "      <td>California</td>\n",
       "      <td>US</td>\n",
       "      <td>37.389389</td>\n",
       "      <td>-122.08321</td>\n",
       "    </tr>\n",
       "    <tr>\n",
       "      <th>3</th>\n",
       "      <td>www.akumenius.com</td>\n",
       "      <td>23/Feb/2014</td>\n",
       "      <td>03:10:38 +0100</td>\n",
       "      <td>GET /hoteles-baratos/ofertas-hotel-Kensington-...</td>\n",
       "      <td>Mozilla/5.0 (compatible; Googlebot/2.1; +http:...</td>\n",
       "      <td>404</td>\n",
       "      <td>3100</td>\n",
       "      <td>GET</td>\n",
       "      <td>/hoteles-baratos/ofertas-hotel-Kensington-Town...</td>\n",
       "      <td>66.249.76.216</td>\n",
       "      <td>Mountain View</td>\n",
       "      <td>California</td>\n",
       "      <td>US</td>\n",
       "      <td>37.389389</td>\n",
       "      <td>-122.08321</td>\n",
       "    </tr>\n",
       "    <tr>\n",
       "      <th>4</th>\n",
       "      <td>www.akumenius.com</td>\n",
       "      <td>23/Feb/2014</td>\n",
       "      <td>03:10:39 +0100</td>\n",
       "      <td>GET /destinos-baratos/destinosEstrelles/hotele...</td>\n",
       "      <td>Mozilla/5.0 (compatible; Googlebot/2.1; +http:...</td>\n",
       "      <td>200</td>\n",
       "      <td>8811</td>\n",
       "      <td>GET</td>\n",
       "      <td>/destinos-baratos/destinosEstrelles/hoteles-en...</td>\n",
       "      <td>66.249.76.216</td>\n",
       "      <td>Mountain View</td>\n",
       "      <td>California</td>\n",
       "      <td>US</td>\n",
       "      <td>37.389389</td>\n",
       "      <td>-122.08321</td>\n",
       "    </tr>\n",
       "  </tbody>\n",
       "</table>\n",
       "</div>"
      ],
      "text/plain": [
       "                host         date            time  \\\n",
       "0  www.akumenius.com  23/Feb/2014  03:10:31 +0100   \n",
       "1  www.akumenius.com  23/Feb/2014  03:10:33 +0100   \n",
       "2  www.akumenius.com  23/Feb/2014  03:10:35 +0100   \n",
       "3  www.akumenius.com  23/Feb/2014  03:10:38 +0100   \n",
       "4  www.akumenius.com  23/Feb/2014  03:10:39 +0100   \n",
       "\n",
       "                                            peticion  \\\n",
       "0  GET /hoteles-baratos/ofertas-hotel-Club-&-Hote...   \n",
       "1  GET /hoteles-baratos/ofertas-hotel-Metropolis-...   \n",
       "2  GET /hoteles-baratos/ofertas-hotel-Faena-Hotel...   \n",
       "3  GET /hoteles-baratos/ofertas-hotel-Kensington-...   \n",
       "4  GET /destinos-baratos/destinosEstrelles/hotele...   \n",
       "\n",
       "                                           user_data code bytes request  \\\n",
       "0  Mozilla/5.0 (compatible; Googlebot/2.1; +http:...  404  3100     GET   \n",
       "1  Mozilla/5.0 (compatible; Googlebot/2.1; +http:...  404  3100     GET   \n",
       "2  Mozilla/5.0 (compatible; Googlebot/2.1; +http:...  404  3100     GET   \n",
       "3  Mozilla/5.0 (compatible; Googlebot/2.1; +http:...  404  3100     GET   \n",
       "4  Mozilla/5.0 (compatible; Googlebot/2.1; +http:...  200  8811     GET   \n",
       "\n",
       "                                                info     ip_address  \\\n",
       "0  /hoteles-baratos/ofertas-hotel-Club-&-Hotel-Le...  66.249.76.216   \n",
       "1  /hoteles-baratos/ofertas-hotel-Metropolis-Hote...  66.249.76.216   \n",
       "2  /hoteles-baratos/ofertas-hotel-Faena-Hotel-Bue...  66.249.76.216   \n",
       "3  /hoteles-baratos/ofertas-hotel-Kensington-Town...  66.249.76.216   \n",
       "4  /destinos-baratos/destinosEstrelles/hoteles-en...  66.249.76.216   \n",
       "\n",
       "            city      region country   latitude  longitude  \n",
       "0  Mountain View  California      US  37.389389 -122.08321  \n",
       "1  Mountain View  California      US  37.389389 -122.08321  \n",
       "2  Mountain View  California      US  37.389389 -122.08321  \n",
       "3  Mountain View  California      US  37.389389 -122.08321  \n",
       "4  Mountain View  California      US  37.389389 -122.08321  "
      ]
     },
     "execution_count": 92,
     "metadata": {},
     "output_type": "execute_result"
    }
   ],
   "source": [
    "df.head()"
   ]
  },
  {
   "cell_type": "code",
   "execution_count": 91,
   "metadata": {},
   "outputs": [
    {
     "data": {
      "image/png": "[encoded data removed]",
      "text/plain": [
       "<Figure size 1080x648 with 1 Axes>"
      ]
     },
     "metadata": {
      "needs_background": "light"
     },
     "output_type": "display_data"
    }
   ],
   "source": [
    "import matplotlib.pyplot as plt\n",
    "fig, ax  = plt.subplots(figsize=(15,9))\n",
    "g = sns.countplot(x='country',data=df,ax=ax)"
   ]
  },
  {
   "cell_type": "code",
   "execution_count": null,
   "metadata": {},
   "outputs": [],
   "source": []
  }
 ],
 "metadata": {
  "kernelspec": {
   "display_name": "Python 3.8.5 64-bit",
   "language": "python",
   "name": "python38564bit085283b789164c689fec9352bdb58d25"
  },
  "language_info": {
   "codemirror_mode": {
    "name": "ipython",
    "version": 3
   },
   "file_extension": ".py",
   "mimetype": "text/x-python",
   "name": "python",
   "nbconvert_exporter": "python",
   "pygments_lexer": "ipython3",
   "version": "3.8.5"
  }
 },
 "nbformat": 4,
 "nbformat_minor": 4
}
